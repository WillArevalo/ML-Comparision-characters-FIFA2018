{
  "nbformat": 4,
  "nbformat_minor": 0,
  "metadata": {
    "colab": {
      "name": "Recommendation fifa_18_data_set_kaggle.ipynb",
      "version": "0.3.2",
      "provenance": [],
      "collapsed_sections": []
    },
    "kernelspec": {
      "name": "python3",
      "display_name": "Python 3"
    }
  },
  "cells": [
    {
      "cell_type": "markdown",
      "metadata": {
        "id": "view-in-github",
        "colab_type": "text"
      },
      "source": [
        "[View in Colaboratory](https://colab.research.google.com/github/WillArevalo/ML-Comparision-characters-FIFA2018/blob/master/Recommendation_fifa_18_data_set_kaggle.ipynb)"
      ]
    },
    {
      "metadata": {
        "id": "Q5syjsivbNpK",
        "colab_type": "text"
      },
      "cell_type": "markdown",
      "source": [
        "# Fifa 18 More Complete Player Dataset (Analytics)"
      ]
    },
    {
      "metadata": {
        "id": "PDu9dGjNbZer",
        "colab_type": "text"
      },
      "cell_type": "markdown",
      "source": [
        "## Conexión con la API de Kaggle para acceder el DataSet desde Colabority usando autenticación con Google Drive"
      ]
    },
    {
      "metadata": {
        "id": "rnuMitfudMXA",
        "colab_type": "code",
        "colab": {
          "base_uri": "https://localhost:8080/",
          "height": 187
        },
        "outputId": "9bb8844b-0c2e-4127-a5dc-8e0cf1dff823"
      },
      "cell_type": "code",
      "source": [
        "!pip install kaggle"
      ],
      "execution_count": 236,
      "outputs": [
        {
          "output_type": "stream",
          "text": [
            "Requirement already satisfied: kaggle in /usr/local/lib/python3.6/dist-packages (1.3.11.1)\r\n",
            "Requirement already satisfied: python-dateutil in /usr/local/lib/python3.6/dist-packages (from kaggle) (2.5.3)\r\n",
            "Requirement already satisfied: six>=1.10 in /usr/local/lib/python3.6/dist-packages (from kaggle) (1.11.0)\r\n",
            "Requirement already satisfied: requests in /usr/local/lib/python3.6/dist-packages (from kaggle) (2.18.4)\n",
            "Requirement already satisfied: urllib3<1.23.0,>=1.15 in /usr/local/lib/python3.6/dist-packages (from kaggle) (1.22)\n",
            "Requirement already satisfied: certifi in /usr/local/lib/python3.6/dist-packages (from kaggle) (2018.4.16)\n",
            "Requirement already satisfied: tqdm in /usr/local/lib/python3.6/dist-packages (from kaggle) (4.23.4)\n",
            "Requirement already satisfied: chardet<3.1.0,>=3.0.2 in /usr/local/lib/python3.6/dist-packages (from requests->kaggle) (3.0.4)\n",
            "Requirement already satisfied: idna<2.7,>=2.5 in /usr/local/lib/python3.6/dist-packages (from requests->kaggle) (2.6)\n"
          ],
          "name": "stdout"
        }
      ]
    },
    {
      "metadata": {
        "id": "tj8__6XucBFU",
        "colab_type": "code",
        "colab": {
          "base_uri": "https://localhost:8080/",
          "height": 36
        },
        "outputId": "bf1134ad-cde1-4d44-c0c0-af7a2491534c"
      },
      "cell_type": "code",
      "source": [
        "from googleapiclient.discovery import build\n",
        "import io, os\n",
        "from googleapiclient.http import MediaIoBaseDownload\n",
        "from google.colab import auth\n",
        "auth.authenticate_user()\n",
        "drive_service = build('drive', 'v3')\n",
        "results = drive_service.files().list(\n",
        "        q=\"name = 'kaggle.json'\", fields=\"files(id)\").execute()\n",
        "kaggle_api_key = results.get('files', [])\n",
        "filename = \"/content/.kaggle/kaggle.json\"\n",
        "os.makedirs(os.path.dirname(filename), exist_ok=True)\n",
        "request = drive_service.files().get_media(fileId=kaggle_api_key[0]['id'])\n",
        "fh = io.FileIO(filename, 'wb')\n",
        "downloader = MediaIoBaseDownload(fh, request)\n",
        "done = False\n",
        "while done is False:\n",
        "    status, done = downloader.next_chunk()\n",
        "    print(\"Download %d%%.\" % int(status.progress() * 100))\n",
        "os.chmod(filename, 600)"
      ],
      "execution_count": 237,
      "outputs": [
        {
          "output_type": "stream",
          "text": [
            "Download 100%.\n"
          ],
          "name": "stdout"
        }
      ]
    },
    {
      "metadata": {
        "id": "NlI4oE2Eb7ar",
        "colab_type": "text"
      },
      "cell_type": "markdown",
      "source": [
        "### Descarga del DataSet"
      ]
    },
    {
      "metadata": {
        "id": "hr_AauZQcVNa",
        "colab_type": "code",
        "colab": {
          "base_uri": "https://localhost:8080/",
          "height": 36
        },
        "outputId": "79adb40b-06b1-41d1-85dc-0031c29fe5cb"
      },
      "cell_type": "code",
      "source": [
        "!kaggle datasets download -d kevinmh/fifa-18-more-complete-player-dataset -p /content/kaggle"
      ],
      "execution_count": 238,
      "outputs": [
        {
          "output_type": "stream",
          "text": [
            "fifa-18-more-complete-player-dataset.zip: Skipping, found more recently modified local copy (use --force to force download)\r\n"
          ],
          "name": "stdout"
        }
      ]
    },
    {
      "metadata": {
        "id": "X57lHg2kcHLD",
        "colab_type": "text"
      },
      "cell_type": "markdown",
      "source": [
        "## Creación del Data Frame"
      ]
    },
    {
      "metadata": {
        "id": "YQtZ9KOqc_w0",
        "colab_type": "code",
        "colab": {
          "base_uri": "https://localhost:8080/",
          "height": 429
        },
        "outputId": "ec4e4245-2b17-4de6-83f8-0f606f32f0ab"
      },
      "cell_type": "code",
      "source": [
        "import pandas as pd\n",
        "import numpy as np\n",
        "data = pd.read_csv('/content/kaggle/complete.csv', header=0, sep=',', quotechar='\"')\n",
        "data.head()"
      ],
      "execution_count": 239,
      "outputs": [
        {
          "output_type": "execute_result",
          "data": {
            "text/html": [
              "<div>\n",
              "<style scoped>\n",
              "    .dataframe tbody tr th:only-of-type {\n",
              "        vertical-align: middle;\n",
              "    }\n",
              "\n",
              "    .dataframe tbody tr th {\n",
              "        vertical-align: top;\n",
              "    }\n",
              "\n",
              "    .dataframe thead th {\n",
              "        text-align: right;\n",
              "    }\n",
              "</style>\n",
              "<table border=\"1\" class=\"dataframe\">\n",
              "  <thead>\n",
              "    <tr style=\"text-align: right;\">\n",
              "      <th></th>\n",
              "      <th>ID</th>\n",
              "      <th>name</th>\n",
              "      <th>full_name</th>\n",
              "      <th>club</th>\n",
              "      <th>club_logo</th>\n",
              "      <th>special</th>\n",
              "      <th>age</th>\n",
              "      <th>league</th>\n",
              "      <th>birth_date</th>\n",
              "      <th>height_cm</th>\n",
              "      <th>...</th>\n",
              "      <th>prefers_cb</th>\n",
              "      <th>prefers_lb</th>\n",
              "      <th>prefers_lwb</th>\n",
              "      <th>prefers_ls</th>\n",
              "      <th>prefers_lf</th>\n",
              "      <th>prefers_lam</th>\n",
              "      <th>prefers_lcm</th>\n",
              "      <th>prefers_ldm</th>\n",
              "      <th>prefers_lcb</th>\n",
              "      <th>prefers_gk</th>\n",
              "    </tr>\n",
              "  </thead>\n",
              "  <tbody>\n",
              "    <tr>\n",
              "      <th>0</th>\n",
              "      <td>20801</td>\n",
              "      <td>Cristiano Ronaldo</td>\n",
              "      <td>C. Ronaldo dos Santos Aveiro</td>\n",
              "      <td>Real Madrid CF</td>\n",
              "      <td>https://cdn.sofifa.org/18/teams/243.png</td>\n",
              "      <td>2228</td>\n",
              "      <td>32</td>\n",
              "      <td>Spanish Primera División</td>\n",
              "      <td>1985-02-05</td>\n",
              "      <td>185.0</td>\n",
              "      <td>...</td>\n",
              "      <td>False</td>\n",
              "      <td>False</td>\n",
              "      <td>False</td>\n",
              "      <td>False</td>\n",
              "      <td>False</td>\n",
              "      <td>False</td>\n",
              "      <td>False</td>\n",
              "      <td>False</td>\n",
              "      <td>False</td>\n",
              "      <td>False</td>\n",
              "    </tr>\n",
              "    <tr>\n",
              "      <th>1</th>\n",
              "      <td>158023</td>\n",
              "      <td>L. Messi</td>\n",
              "      <td>Lionel Messi</td>\n",
              "      <td>FC Barcelona</td>\n",
              "      <td>https://cdn.sofifa.org/18/teams/241.png</td>\n",
              "      <td>2158</td>\n",
              "      <td>30</td>\n",
              "      <td>Spanish Primera División</td>\n",
              "      <td>1987-06-24</td>\n",
              "      <td>170.0</td>\n",
              "      <td>...</td>\n",
              "      <td>False</td>\n",
              "      <td>False</td>\n",
              "      <td>False</td>\n",
              "      <td>False</td>\n",
              "      <td>False</td>\n",
              "      <td>False</td>\n",
              "      <td>False</td>\n",
              "      <td>False</td>\n",
              "      <td>False</td>\n",
              "      <td>False</td>\n",
              "    </tr>\n",
              "    <tr>\n",
              "      <th>2</th>\n",
              "      <td>190871</td>\n",
              "      <td>Neymar</td>\n",
              "      <td>Neymar da Silva Santos Jr.</td>\n",
              "      <td>Paris Saint-Germain</td>\n",
              "      <td>https://cdn.sofifa.org/18/teams/73.png</td>\n",
              "      <td>2100</td>\n",
              "      <td>25</td>\n",
              "      <td>French Ligue 1</td>\n",
              "      <td>1992-02-05</td>\n",
              "      <td>175.0</td>\n",
              "      <td>...</td>\n",
              "      <td>False</td>\n",
              "      <td>False</td>\n",
              "      <td>False</td>\n",
              "      <td>False</td>\n",
              "      <td>False</td>\n",
              "      <td>False</td>\n",
              "      <td>False</td>\n",
              "      <td>False</td>\n",
              "      <td>False</td>\n",
              "      <td>False</td>\n",
              "    </tr>\n",
              "    <tr>\n",
              "      <th>3</th>\n",
              "      <td>176580</td>\n",
              "      <td>L. Suárez</td>\n",
              "      <td>Luis Suárez</td>\n",
              "      <td>FC Barcelona</td>\n",
              "      <td>https://cdn.sofifa.org/18/teams/241.png</td>\n",
              "      <td>2291</td>\n",
              "      <td>30</td>\n",
              "      <td>Spanish Primera División</td>\n",
              "      <td>1987-01-24</td>\n",
              "      <td>182.0</td>\n",
              "      <td>...</td>\n",
              "      <td>False</td>\n",
              "      <td>False</td>\n",
              "      <td>False</td>\n",
              "      <td>False</td>\n",
              "      <td>False</td>\n",
              "      <td>False</td>\n",
              "      <td>False</td>\n",
              "      <td>False</td>\n",
              "      <td>False</td>\n",
              "      <td>False</td>\n",
              "    </tr>\n",
              "    <tr>\n",
              "      <th>4</th>\n",
              "      <td>167495</td>\n",
              "      <td>M. Neuer</td>\n",
              "      <td>Manuel Neuer</td>\n",
              "      <td>FC Bayern Munich</td>\n",
              "      <td>https://cdn.sofifa.org/18/teams/21.png</td>\n",
              "      <td>1493</td>\n",
              "      <td>31</td>\n",
              "      <td>German Bundesliga</td>\n",
              "      <td>1986-03-27</td>\n",
              "      <td>193.0</td>\n",
              "      <td>...</td>\n",
              "      <td>False</td>\n",
              "      <td>False</td>\n",
              "      <td>False</td>\n",
              "      <td>False</td>\n",
              "      <td>False</td>\n",
              "      <td>False</td>\n",
              "      <td>False</td>\n",
              "      <td>False</td>\n",
              "      <td>False</td>\n",
              "      <td>True</td>\n",
              "    </tr>\n",
              "  </tbody>\n",
              "</table>\n",
              "<p>5 rows × 185 columns</p>\n",
              "</div>"
            ],
            "text/plain": [
              "       ID               name                     full_name  \\\n",
              "0   20801  Cristiano Ronaldo  C. Ronaldo dos Santos Aveiro   \n",
              "1  158023           L. Messi                  Lionel Messi   \n",
              "2  190871             Neymar    Neymar da Silva Santos Jr.   \n",
              "3  176580          L. Suárez                   Luis Suárez   \n",
              "4  167495           M. Neuer                  Manuel Neuer   \n",
              "\n",
              "                  club                                club_logo  special  age  \\\n",
              "0       Real Madrid CF  https://cdn.sofifa.org/18/teams/243.png     2228   32   \n",
              "1         FC Barcelona  https://cdn.sofifa.org/18/teams/241.png     2158   30   \n",
              "2  Paris Saint-Germain   https://cdn.sofifa.org/18/teams/73.png     2100   25   \n",
              "3         FC Barcelona  https://cdn.sofifa.org/18/teams/241.png     2291   30   \n",
              "4     FC Bayern Munich   https://cdn.sofifa.org/18/teams/21.png     1493   31   \n",
              "\n",
              "                     league  birth_date  height_cm     ...      prefers_cb  \\\n",
              "0  Spanish Primera División  1985-02-05      185.0     ...           False   \n",
              "1  Spanish Primera División  1987-06-24      170.0     ...           False   \n",
              "2            French Ligue 1  1992-02-05      175.0     ...           False   \n",
              "3  Spanish Primera División  1987-01-24      182.0     ...           False   \n",
              "4         German Bundesliga  1986-03-27      193.0     ...           False   \n",
              "\n",
              "  prefers_lb  prefers_lwb prefers_ls prefers_lf prefers_lam  prefers_lcm  \\\n",
              "0      False        False      False      False       False        False   \n",
              "1      False        False      False      False       False        False   \n",
              "2      False        False      False      False       False        False   \n",
              "3      False        False      False      False       False        False   \n",
              "4      False        False      False      False       False        False   \n",
              "\n",
              "   prefers_ldm  prefers_lcb  prefers_gk  \n",
              "0        False        False       False  \n",
              "1        False        False       False  \n",
              "2        False        False       False  \n",
              "3        False        False       False  \n",
              "4        False        False        True  \n",
              "\n",
              "[5 rows x 185 columns]"
            ]
          },
          "metadata": {
            "tags": []
          },
          "execution_count": 239
        }
      ]
    },
    {
      "metadata": {
        "id": "8JZML5YScXnn",
        "colab_type": "text"
      },
      "cell_type": "markdown",
      "source": [
        "## Analisis Exploratorio de los datos"
      ]
    },
    {
      "metadata": {
        "id": "dIKyUT-cFusS",
        "colab_type": "code",
        "colab": {
          "base_uri": "https://localhost:8080/",
          "height": 429
        },
        "outputId": "f7755f85-fc4a-4cf5-8725-92f6705f6d7c"
      },
      "cell_type": "code",
      "source": [
        "datacomparison = pd.DataFrame(data.loc[0:9, :])\n",
        "datacomparison.head()\n"
      ],
      "execution_count": 240,
      "outputs": [
        {
          "output_type": "execute_result",
          "data": {
            "text/html": [
              "<div>\n",
              "<style scoped>\n",
              "    .dataframe tbody tr th:only-of-type {\n",
              "        vertical-align: middle;\n",
              "    }\n",
              "\n",
              "    .dataframe tbody tr th {\n",
              "        vertical-align: top;\n",
              "    }\n",
              "\n",
              "    .dataframe thead th {\n",
              "        text-align: right;\n",
              "    }\n",
              "</style>\n",
              "<table border=\"1\" class=\"dataframe\">\n",
              "  <thead>\n",
              "    <tr style=\"text-align: right;\">\n",
              "      <th></th>\n",
              "      <th>ID</th>\n",
              "      <th>name</th>\n",
              "      <th>full_name</th>\n",
              "      <th>club</th>\n",
              "      <th>club_logo</th>\n",
              "      <th>special</th>\n",
              "      <th>age</th>\n",
              "      <th>league</th>\n",
              "      <th>birth_date</th>\n",
              "      <th>height_cm</th>\n",
              "      <th>...</th>\n",
              "      <th>prefers_cb</th>\n",
              "      <th>prefers_lb</th>\n",
              "      <th>prefers_lwb</th>\n",
              "      <th>prefers_ls</th>\n",
              "      <th>prefers_lf</th>\n",
              "      <th>prefers_lam</th>\n",
              "      <th>prefers_lcm</th>\n",
              "      <th>prefers_ldm</th>\n",
              "      <th>prefers_lcb</th>\n",
              "      <th>prefers_gk</th>\n",
              "    </tr>\n",
              "  </thead>\n",
              "  <tbody>\n",
              "    <tr>\n",
              "      <th>0</th>\n",
              "      <td>20801</td>\n",
              "      <td>Cristiano Ronaldo</td>\n",
              "      <td>C. Ronaldo dos Santos Aveiro</td>\n",
              "      <td>Real Madrid CF</td>\n",
              "      <td>https://cdn.sofifa.org/18/teams/243.png</td>\n",
              "      <td>2228</td>\n",
              "      <td>32</td>\n",
              "      <td>Spanish Primera División</td>\n",
              "      <td>1985-02-05</td>\n",
              "      <td>185.0</td>\n",
              "      <td>...</td>\n",
              "      <td>False</td>\n",
              "      <td>False</td>\n",
              "      <td>False</td>\n",
              "      <td>False</td>\n",
              "      <td>False</td>\n",
              "      <td>False</td>\n",
              "      <td>False</td>\n",
              "      <td>False</td>\n",
              "      <td>False</td>\n",
              "      <td>False</td>\n",
              "    </tr>\n",
              "    <tr>\n",
              "      <th>1</th>\n",
              "      <td>158023</td>\n",
              "      <td>L. Messi</td>\n",
              "      <td>Lionel Messi</td>\n",
              "      <td>FC Barcelona</td>\n",
              "      <td>https://cdn.sofifa.org/18/teams/241.png</td>\n",
              "      <td>2158</td>\n",
              "      <td>30</td>\n",
              "      <td>Spanish Primera División</td>\n",
              "      <td>1987-06-24</td>\n",
              "      <td>170.0</td>\n",
              "      <td>...</td>\n",
              "      <td>False</td>\n",
              "      <td>False</td>\n",
              "      <td>False</td>\n",
              "      <td>False</td>\n",
              "      <td>False</td>\n",
              "      <td>False</td>\n",
              "      <td>False</td>\n",
              "      <td>False</td>\n",
              "      <td>False</td>\n",
              "      <td>False</td>\n",
              "    </tr>\n",
              "    <tr>\n",
              "      <th>2</th>\n",
              "      <td>190871</td>\n",
              "      <td>Neymar</td>\n",
              "      <td>Neymar da Silva Santos Jr.</td>\n",
              "      <td>Paris Saint-Germain</td>\n",
              "      <td>https://cdn.sofifa.org/18/teams/73.png</td>\n",
              "      <td>2100</td>\n",
              "      <td>25</td>\n",
              "      <td>French Ligue 1</td>\n",
              "      <td>1992-02-05</td>\n",
              "      <td>175.0</td>\n",
              "      <td>...</td>\n",
              "      <td>False</td>\n",
              "      <td>False</td>\n",
              "      <td>False</td>\n",
              "      <td>False</td>\n",
              "      <td>False</td>\n",
              "      <td>False</td>\n",
              "      <td>False</td>\n",
              "      <td>False</td>\n",
              "      <td>False</td>\n",
              "      <td>False</td>\n",
              "    </tr>\n",
              "    <tr>\n",
              "      <th>3</th>\n",
              "      <td>176580</td>\n",
              "      <td>L. Suárez</td>\n",
              "      <td>Luis Suárez</td>\n",
              "      <td>FC Barcelona</td>\n",
              "      <td>https://cdn.sofifa.org/18/teams/241.png</td>\n",
              "      <td>2291</td>\n",
              "      <td>30</td>\n",
              "      <td>Spanish Primera División</td>\n",
              "      <td>1987-01-24</td>\n",
              "      <td>182.0</td>\n",
              "      <td>...</td>\n",
              "      <td>False</td>\n",
              "      <td>False</td>\n",
              "      <td>False</td>\n",
              "      <td>False</td>\n",
              "      <td>False</td>\n",
              "      <td>False</td>\n",
              "      <td>False</td>\n",
              "      <td>False</td>\n",
              "      <td>False</td>\n",
              "      <td>False</td>\n",
              "    </tr>\n",
              "    <tr>\n",
              "      <th>4</th>\n",
              "      <td>167495</td>\n",
              "      <td>M. Neuer</td>\n",
              "      <td>Manuel Neuer</td>\n",
              "      <td>FC Bayern Munich</td>\n",
              "      <td>https://cdn.sofifa.org/18/teams/21.png</td>\n",
              "      <td>1493</td>\n",
              "      <td>31</td>\n",
              "      <td>German Bundesliga</td>\n",
              "      <td>1986-03-27</td>\n",
              "      <td>193.0</td>\n",
              "      <td>...</td>\n",
              "      <td>False</td>\n",
              "      <td>False</td>\n",
              "      <td>False</td>\n",
              "      <td>False</td>\n",
              "      <td>False</td>\n",
              "      <td>False</td>\n",
              "      <td>False</td>\n",
              "      <td>False</td>\n",
              "      <td>False</td>\n",
              "      <td>True</td>\n",
              "    </tr>\n",
              "  </tbody>\n",
              "</table>\n",
              "<p>5 rows × 185 columns</p>\n",
              "</div>"
            ],
            "text/plain": [
              "       ID               name                     full_name  \\\n",
              "0   20801  Cristiano Ronaldo  C. Ronaldo dos Santos Aveiro   \n",
              "1  158023           L. Messi                  Lionel Messi   \n",
              "2  190871             Neymar    Neymar da Silva Santos Jr.   \n",
              "3  176580          L. Suárez                   Luis Suárez   \n",
              "4  167495           M. Neuer                  Manuel Neuer   \n",
              "\n",
              "                  club                                club_logo  special  age  \\\n",
              "0       Real Madrid CF  https://cdn.sofifa.org/18/teams/243.png     2228   32   \n",
              "1         FC Barcelona  https://cdn.sofifa.org/18/teams/241.png     2158   30   \n",
              "2  Paris Saint-Germain   https://cdn.sofifa.org/18/teams/73.png     2100   25   \n",
              "3         FC Barcelona  https://cdn.sofifa.org/18/teams/241.png     2291   30   \n",
              "4     FC Bayern Munich   https://cdn.sofifa.org/18/teams/21.png     1493   31   \n",
              "\n",
              "                     league  birth_date  height_cm     ...      prefers_cb  \\\n",
              "0  Spanish Primera División  1985-02-05      185.0     ...           False   \n",
              "1  Spanish Primera División  1987-06-24      170.0     ...           False   \n",
              "2            French Ligue 1  1992-02-05      175.0     ...           False   \n",
              "3  Spanish Primera División  1987-01-24      182.0     ...           False   \n",
              "4         German Bundesliga  1986-03-27      193.0     ...           False   \n",
              "\n",
              "  prefers_lb  prefers_lwb prefers_ls prefers_lf prefers_lam  prefers_lcm  \\\n",
              "0      False        False      False      False       False        False   \n",
              "1      False        False      False      False       False        False   \n",
              "2      False        False      False      False       False        False   \n",
              "3      False        False      False      False       False        False   \n",
              "4      False        False      False      False       False        False   \n",
              "\n",
              "   prefers_ldm  prefers_lcb  prefers_gk  \n",
              "0        False        False       False  \n",
              "1        False        False       False  \n",
              "2        False        False       False  \n",
              "3        False        False       False  \n",
              "4        False        False        True  \n",
              "\n",
              "[5 rows x 185 columns]"
            ]
          },
          "metadata": {
            "tags": []
          },
          "execution_count": 240
        }
      ]
    },
    {
      "metadata": {
        "id": "uxTJ3j7jIE2h",
        "colab_type": "code",
        "colab": {
          "base_uri": "https://localhost:8080/",
          "height": 363
        },
        "outputId": "a90a89f0-a027-4d12-ca17-0a7ceb6053aa"
      },
      "cell_type": "code",
      "source": [
        "datacomparison[['rs', 'rf', 'st', 'cf', 'ls', 'lf', 'rw', 'ram', 'lw', 'cam']].head(10)\n"
      ],
      "execution_count": 241,
      "outputs": [
        {
          "output_type": "execute_result",
          "data": {
            "text/html": [
              "<div>\n",
              "<style scoped>\n",
              "    .dataframe tbody tr th:only-of-type {\n",
              "        vertical-align: middle;\n",
              "    }\n",
              "\n",
              "    .dataframe tbody tr th {\n",
              "        vertical-align: top;\n",
              "    }\n",
              "\n",
              "    .dataframe thead th {\n",
              "        text-align: right;\n",
              "    }\n",
              "</style>\n",
              "<table border=\"1\" class=\"dataframe\">\n",
              "  <thead>\n",
              "    <tr style=\"text-align: right;\">\n",
              "      <th></th>\n",
              "      <th>rs</th>\n",
              "      <th>rf</th>\n",
              "      <th>st</th>\n",
              "      <th>cf</th>\n",
              "      <th>ls</th>\n",
              "      <th>lf</th>\n",
              "      <th>rw</th>\n",
              "      <th>ram</th>\n",
              "      <th>lw</th>\n",
              "      <th>cam</th>\n",
              "    </tr>\n",
              "  </thead>\n",
              "  <tbody>\n",
              "    <tr>\n",
              "      <th>0</th>\n",
              "      <td>92.0</td>\n",
              "      <td>91.0</td>\n",
              "      <td>92.0</td>\n",
              "      <td>91.0</td>\n",
              "      <td>92.0</td>\n",
              "      <td>91.0</td>\n",
              "      <td>91.0</td>\n",
              "      <td>89.0</td>\n",
              "      <td>91.0</td>\n",
              "      <td>89.0</td>\n",
              "    </tr>\n",
              "    <tr>\n",
              "      <th>1</th>\n",
              "      <td>88.0</td>\n",
              "      <td>92.0</td>\n",
              "      <td>88.0</td>\n",
              "      <td>92.0</td>\n",
              "      <td>88.0</td>\n",
              "      <td>92.0</td>\n",
              "      <td>91.0</td>\n",
              "      <td>92.0</td>\n",
              "      <td>91.0</td>\n",
              "      <td>92.0</td>\n",
              "    </tr>\n",
              "    <tr>\n",
              "      <th>2</th>\n",
              "      <td>84.0</td>\n",
              "      <td>88.0</td>\n",
              "      <td>84.0</td>\n",
              "      <td>88.0</td>\n",
              "      <td>84.0</td>\n",
              "      <td>88.0</td>\n",
              "      <td>89.0</td>\n",
              "      <td>88.0</td>\n",
              "      <td>89.0</td>\n",
              "      <td>88.0</td>\n",
              "    </tr>\n",
              "    <tr>\n",
              "      <th>3</th>\n",
              "      <td>88.0</td>\n",
              "      <td>88.0</td>\n",
              "      <td>88.0</td>\n",
              "      <td>88.0</td>\n",
              "      <td>88.0</td>\n",
              "      <td>88.0</td>\n",
              "      <td>87.0</td>\n",
              "      <td>87.0</td>\n",
              "      <td>87.0</td>\n",
              "      <td>87.0</td>\n",
              "    </tr>\n",
              "    <tr>\n",
              "      <th>4</th>\n",
              "      <td>NaN</td>\n",
              "      <td>NaN</td>\n",
              "      <td>NaN</td>\n",
              "      <td>NaN</td>\n",
              "      <td>NaN</td>\n",
              "      <td>NaN</td>\n",
              "      <td>NaN</td>\n",
              "      <td>NaN</td>\n",
              "      <td>NaN</td>\n",
              "      <td>NaN</td>\n",
              "    </tr>\n",
              "    <tr>\n",
              "      <th>5</th>\n",
              "      <td>88.0</td>\n",
              "      <td>87.0</td>\n",
              "      <td>88.0</td>\n",
              "      <td>87.0</td>\n",
              "      <td>88.0</td>\n",
              "      <td>87.0</td>\n",
              "      <td>84.0</td>\n",
              "      <td>84.0</td>\n",
              "      <td>84.0</td>\n",
              "      <td>84.0</td>\n",
              "    </tr>\n",
              "    <tr>\n",
              "      <th>6</th>\n",
              "      <td>NaN</td>\n",
              "      <td>NaN</td>\n",
              "      <td>NaN</td>\n",
              "      <td>NaN</td>\n",
              "      <td>NaN</td>\n",
              "      <td>NaN</td>\n",
              "      <td>NaN</td>\n",
              "      <td>NaN</td>\n",
              "      <td>NaN</td>\n",
              "      <td>NaN</td>\n",
              "    </tr>\n",
              "    <tr>\n",
              "      <th>7</th>\n",
              "      <td>82.0</td>\n",
              "      <td>87.0</td>\n",
              "      <td>82.0</td>\n",
              "      <td>87.0</td>\n",
              "      <td>82.0</td>\n",
              "      <td>87.0</td>\n",
              "      <td>88.0</td>\n",
              "      <td>88.0</td>\n",
              "      <td>88.0</td>\n",
              "      <td>88.0</td>\n",
              "    </tr>\n",
              "    <tr>\n",
              "      <th>8</th>\n",
              "      <td>77.0</td>\n",
              "      <td>81.0</td>\n",
              "      <td>77.0</td>\n",
              "      <td>81.0</td>\n",
              "      <td>77.0</td>\n",
              "      <td>81.0</td>\n",
              "      <td>80.0</td>\n",
              "      <td>83.0</td>\n",
              "      <td>80.0</td>\n",
              "      <td>83.0</td>\n",
              "    </tr>\n",
              "    <tr>\n",
              "      <th>9</th>\n",
              "      <td>87.0</td>\n",
              "      <td>84.0</td>\n",
              "      <td>87.0</td>\n",
              "      <td>84.0</td>\n",
              "      <td>87.0</td>\n",
              "      <td>84.0</td>\n",
              "      <td>82.0</td>\n",
              "      <td>81.0</td>\n",
              "      <td>82.0</td>\n",
              "      <td>81.0</td>\n",
              "    </tr>\n",
              "  </tbody>\n",
              "</table>\n",
              "</div>"
            ],
            "text/plain": [
              "     rs    rf    st    cf    ls    lf    rw   ram    lw   cam\n",
              "0  92.0  91.0  92.0  91.0  92.0  91.0  91.0  89.0  91.0  89.0\n",
              "1  88.0  92.0  88.0  92.0  88.0  92.0  91.0  92.0  91.0  92.0\n",
              "2  84.0  88.0  84.0  88.0  84.0  88.0  89.0  88.0  89.0  88.0\n",
              "3  88.0  88.0  88.0  88.0  88.0  88.0  87.0  87.0  87.0  87.0\n",
              "4   NaN   NaN   NaN   NaN   NaN   NaN   NaN   NaN   NaN   NaN\n",
              "5  88.0  87.0  88.0  87.0  88.0  87.0  84.0  84.0  84.0  84.0\n",
              "6   NaN   NaN   NaN   NaN   NaN   NaN   NaN   NaN   NaN   NaN\n",
              "7  82.0  87.0  82.0  87.0  82.0  87.0  88.0  88.0  88.0  88.0\n",
              "8  77.0  81.0  77.0  81.0  77.0  81.0  80.0  83.0  80.0  83.0\n",
              "9  87.0  84.0  87.0  84.0  87.0  84.0  82.0  81.0  82.0  81.0"
            ]
          },
          "metadata": {
            "tags": []
          },
          "execution_count": 241
        }
      ]
    },
    {
      "metadata": {
        "id": "5fJR0u4TQx9J",
        "colab_type": "code",
        "colab": {
          "base_uri": "https://localhost:8080/",
          "height": 522
        },
        "outputId": "27bcefe6-f033-42c6-9975-4a5b101ce191"
      },
      "cell_type": "code",
      "source": [
        "row = datacomparison[['rs', 'rf', 'st', 'cf', 'ls', 'lf', 'rw', 'ram', 'lw', 'cam']].iloc[0]\n",
        "featchar = row.plot(kind='bar', figsize=(30, 8), fontsize=18)\n",
        "featchar.set_title('Jugador '+datacomparison[['name']].iloc[0].values);\n",
        "featchar.set_ylim(85, 95);\n"
      ],
      "execution_count": 242,
      "outputs": [
        {
          "output_type": "display_data",
          "data": {
            "image/png": "[encoded data removed]",
            "text/plain": [
              "<matplotlib.figure.Figure at 0x7fa93ab2c0b8>"
            ]
          },
          "metadata": {
            "tags": []
          }
        }
      ]
    },
    {
      "metadata": {
        "id": "LD7Hqv5mWq68",
        "colab_type": "code",
        "colab": {
          "base_uri": "https://localhost:8080/",
          "height": 623
        },
        "outputId": "6e4157c4-6016-4263-e033-e85eae07f7dc"
      },
      "cell_type": "code",
      "source": [
        "barsplot = datacomparison[['rs', 'rf', 'st', 'cf', 'ls', 'lf', 'rw', 'ram', 'lw', 'cam']].plot.bar(figsize=(30, 8), fontsize=18);\n",
        "barsplot.legend(loc=8, prop={'size': 18});\n",
        "barsplot.set_xticklabels(datacomparison.name, rotation=90);\n",
        "barsplot.set_ylim(75, 95);"
      ],
      "execution_count": 243,
      "outputs": [
        {
          "output_type": "display_data",
          "data": {
            "image/png": "[encoded data removed]",
            "text/plain": [
              "<matplotlib.figure.Figure at 0x7fa93aaf5a90>"
            ]
          },
          "metadata": {
            "tags": []
          }
        }
      ]
    },
    {
      "metadata": {
        "id": "dmrAqAyWcjLj",
        "colab_type": "code",
        "colab": {
          "base_uri": "https://localhost:8080/",
          "height": 602
        },
        "outputId": "41374f90-344a-4cc3-b360-f20e0b8a97cd"
      },
      "cell_type": "code",
      "source": [
        "ftplot = datacomparison[['rs', 'rf', 'st', 'cf']].plot.pie(subplots=True, figsize=(30, 6),  autopct='%1.0f%%', fontsize=18)\n",
        "for i in range(datacomparison.shape[0]):\n",
        "  print(\"\"\"{} \\t=> \\t{}\"\"\".format(datacomparison.loc[i:i, :].index.values, datacomparison[['name']].loc[i, :].values))\n",
        "  \n",
        "print(\"\\n\\n\\033[1mGraficos\\033[0m\")"
      ],
      "execution_count": 245,
      "outputs": [
        {
          "output_type": "stream",
          "text": [
            "[0] \t=> \t['Cristiano Ronaldo']\n",
            "[1] \t=> \t['L. Messi']\n",
            "[2] \t=> \t['Neymar']\n",
            "[3] \t=> \t['L. Suárez']\n",
            "[4] \t=> \t['M. Neuer']\n",
            "[5] \t=> \t['R. Lewandowski']\n",
            "[6] \t=> \t['De Gea']\n",
            "[7] \t=> \t['E. Hazard']\n",
            "[8] \t=> \t['T. Kroos']\n",
            "[9] \t=> \t['G. Higuaín']\n",
            "\n",
            "\n",
            "\u001b[1mGraficos\u001b[0m\n"
          ],
          "name": "stdout"
        },
        {
          "output_type": "display_data",
          "data": {
            "image/png": "[encoded data removed]",
            "text/plain": [
              "<matplotlib.figure.Figure at 0x7fa93a08d518>"
            ]
          },
          "metadata": {
            "tags": []
          }
        }
      ]
    },
    {
      "metadata": {
        "id": "ZC2WqjB7pvbg",
        "colab_type": "code",
        "colab": {
          "base_uri": "https://localhost:8080/",
          "height": 1004
        },
        "outputId": "efd28cef-fd15-4aae-9942-956a2fd83d51"
      },
      "cell_type": "code",
      "source": [
        "piechar = datacomparison[['rs', 'rf', 'st', 'cf']].T.plot.pie(subplots=True, figsize=(30, 12), secondary_y=True, autopct='%1.0f%%', pctdistance=0.4, labeldistance=1.2, layout=(2, 5), fontsize=16);\n",
        "print(\"\\n\")\n",
        "for i in range(datacomparison.shape[0]):\n",
        "  print(\"\"\"{} \\t=> \\t{}\"\"\".format(datacomparison.loc[i:i, :].index.values, datacomparison[['name']].loc[i, :].values))\n",
        "  \n",
        "print(\"\\n\\n\\033[1mGraficos\\033[0m\")"
      ],
      "execution_count": 246,
      "outputs": [
        {
          "output_type": "stream",
          "text": [
            "No handles with labels found to put in legend.\n",
            "No handles with labels found to put in legend.\n"
          ],
          "name": "stderr"
        },
        {
          "output_type": "stream",
          "text": [
            "\n",
            "\n",
            "[0] \t=> \t['Cristiano Ronaldo']\n",
            "[1] \t=> \t['L. Messi']\n",
            "[2] \t=> \t['Neymar']\n",
            "[3] \t=> \t['L. Suárez']\n",
            "[4] \t=> \t['M. Neuer']\n",
            "[5] \t=> \t['R. Lewandowski']\n",
            "[6] \t=> \t['De Gea']\n",
            "[7] \t=> \t['E. Hazard']\n",
            "[8] \t=> \t['T. Kroos']\n",
            "[9] \t=> \t['G. Higuaín']\n",
            "\n",
            "\n",
            "\u001b[1mGraficos\u001b[0m\n"
          ],
          "name": "stdout"
        },
        {
          "output_type": "display_data",
          "data": {
            "image/png": "[encoded data removed]",
            "text/plain": [
              "<matplotlib.figure.Figure at 0x7fa93bd6d9b0>"
            ]
          },
          "metadata": {
            "tags": []
          }
        }
      ]
    },
    {
      "metadata": {
        "id": "opUP8oSPjRaE",
        "colab_type": "code",
        "colab": {
          "base_uri": "https://localhost:8080/",
          "height": 728
        },
        "outputId": "0fc148d4-3808-4da0-fddb-860a7f2f27c6"
      },
      "cell_type": "code",
      "source": [
        "ax = datacomparison[['rs', 'rf', 'st', 'cf', 'ls', 'lf', 'rw', 'ram', 'lw', 'cam']].plot(figsize=(30, 10),fontsize=16)\n",
        "ax.set_xticks(datacomparison.index)\n",
        "ax.set_xticklabels(datacomparison.name, rotation=90);\n",
        "ax.legend(loc=3, prop={'size': 20})"
      ],
      "execution_count": 247,
      "outputs": [
        {
          "output_type": "execute_result",
          "data": {
            "text/plain": [
              "<matplotlib.legend.Legend at 0x7fa93c230d30>"
            ]
          },
          "metadata": {
            "tags": []
          },
          "execution_count": 247
        },
        {
          "output_type": "display_data",
          "data": {
            "image/png": "[encoded data removed]",
            "text/plain": [
              "<matplotlib.figure.Figure at 0x7fa93bf877f0>"
            ]
          },
          "metadata": {
            "tags": []
          }
        }
      ]
    },
    {
      "metadata": {
        "id": "QgQFVQMCJWEO",
        "colab_type": "text"
      },
      "cell_type": "markdown",
      "source": [
        "***Dimensiones del DataSet***"
      ]
    },
    {
      "metadata": {
        "id": "BrvL7z8Ccb2S",
        "colab_type": "code",
        "colab": {
          "base_uri": "https://localhost:8080/",
          "height": 55
        },
        "outputId": "41945e6f-8740-49f8-995f-0a81c44f5f2c"
      },
      "cell_type": "code",
      "source": [
        "print(\"\"\"Dimensiones del dataset:\n",
        "{} filas X {} columnas\"\"\".format(data.shape[0],data.shape[1]))"
      ],
      "execution_count": 248,
      "outputs": [
        {
          "output_type": "stream",
          "text": [
            "Dimensiones del dataset:\n",
            "17994 filas X 185 columnas\n"
          ],
          "name": "stdout"
        }
      ]
    },
    {
      "metadata": {
        "id": "TCVFFif_JenH",
        "colab_type": "text"
      },
      "cell_type": "markdown",
      "source": [
        "***Algunas columnas del DataSet***"
      ]
    },
    {
      "metadata": {
        "id": "7HZ5iP-5c1lB",
        "colab_type": "code",
        "colab": {
          "base_uri": "https://localhost:8080/",
          "height": 168
        },
        "outputId": "6394ca48-5b6f-47b7-a7be-af060114b2fc"
      },
      "cell_type": "code",
      "source": [
        "print(\"Nombre de columnas:\")\n",
        "data.columns"
      ],
      "execution_count": 249,
      "outputs": [
        {
          "output_type": "stream",
          "text": [
            "Nombre de columnas:\n"
          ],
          "name": "stdout"
        },
        {
          "output_type": "execute_result",
          "data": {
            "text/plain": [
              "Index(['ID', 'name', 'full_name', 'club', 'club_logo', 'special', 'age',\n",
              "       'league', 'birth_date', 'height_cm',\n",
              "       ...\n",
              "       'prefers_cb', 'prefers_lb', 'prefers_lwb', 'prefers_ls', 'prefers_lf',\n",
              "       'prefers_lam', 'prefers_lcm', 'prefers_ldm', 'prefers_lcb',\n",
              "       'prefers_gk'],\n",
              "      dtype='object', length=185)"
            ]
          },
          "metadata": {
            "tags": []
          },
          "execution_count": 249
        }
      ]
    },
    {
      "metadata": {
        "id": "vM73-EwBJjn0",
        "colab_type": "text"
      },
      "cell_type": "markdown",
      "source": [
        "***Revisión de Indices***"
      ]
    },
    {
      "metadata": {
        "id": "l6M_Ws9jdge0",
        "colab_type": "code",
        "colab": {
          "base_uri": "https://localhost:8080/",
          "height": 55
        },
        "outputId": "00103de1-36bc-46ae-c174-eed2cc7bc3c9"
      },
      "cell_type": "code",
      "source": [
        "print(\"Indices y pasos del indice:\")\n",
        "data.index"
      ],
      "execution_count": 250,
      "outputs": [
        {
          "output_type": "stream",
          "text": [
            "Indices y pasos del indice:\n"
          ],
          "name": "stdout"
        },
        {
          "output_type": "execute_result",
          "data": {
            "text/plain": [
              "RangeIndex(start=0, stop=17994, step=1)"
            ]
          },
          "metadata": {
            "tags": []
          },
          "execution_count": 250
        }
      ]
    },
    {
      "metadata": {
        "id": "Mi7ybpHEfooy",
        "colab_type": "text"
      },
      "cell_type": "markdown",
      "source": [
        "### Separación de variables según su tipo"
      ]
    },
    {
      "metadata": {
        "id": "1OYivqmpjcth",
        "colab_type": "text"
      },
      "cell_type": "markdown",
      "source": [
        ">* ***Vamos a discriminar datos del club o nacionalidad debido a que nuestra intención principal es buscar jugadores similares sin importar su procendencia, con la intención de descubirir talentos no contemplados al enfocarnos solamente en ligas de renombre.***\n",
        "\n",
        "\n"
      ]
    },
    {
      "metadata": {
        "id": "ckO5WcC2gAz8",
        "colab_type": "code",
        "colab": {
          "base_uri": "https://localhost:8080/",
          "height": 130
        },
        "outputId": "c5963564-4bf1-4c41-9035-9abd201faa41"
      },
      "cell_type": "code",
      "source": [
        "print(\"Info del dataset:\")\n",
        "data.info()"
      ],
      "execution_count": 251,
      "outputs": [
        {
          "output_type": "stream",
          "text": [
            "Info del dataset:\n",
            "<class 'pandas.core.frame.DataFrame'>\n",
            "RangeIndex: 17994 entries, 0 to 17993\n",
            "Columns: 185 entries, ID to prefers_gk\n",
            "dtypes: bool(92), float64(32), int64(48), object(13)\n",
            "memory usage: 14.3+ MB\n"
          ],
          "name": "stdout"
        }
      ]
    },
    {
      "metadata": {
        "id": "pj0j5xnBrDoy",
        "colab_type": "text"
      },
      "cell_type": "markdown",
      "source": [
        "### Mascara de datos obj (Cadenas de Texto)"
      ]
    },
    {
      "metadata": {
        "id": "IE32khUAfaSZ",
        "colab_type": "code",
        "colab": {
          "base_uri": "https://localhost:8080/",
          "height": 36
        },
        "outputId": "89e62408-2e3b-4f39-8240-9fb4adff98fd"
      },
      "cell_type": "code",
      "source": [
        "obj = (data.dtypes == object)\n",
        "obj_cols = [c for c in obj.index if obj[c]]\n",
        "#Obj que no se necesitan\n",
        "useless_obj = ['name', 'club', 'club_logo', 'league','flag', 'nationality', 'photo', 'body_type', 'birth_date', 'work_rate_att', 'work_rate_def']\n",
        "\n",
        "for item in useless_obj:\n",
        "  obj_cols.remove(item)\n",
        "  \n",
        "print(\"Columnas que se conservan de tipo obj: \",obj_cols)  "
      ],
      "execution_count": 261,
      "outputs": [
        {
          "output_type": "stream",
          "text": [
            "Columnas que se conservan de tipo obj:  ['full_name', 'preferred_foot']\n"
          ],
          "name": "stdout"
        }
      ]
    },
    {
      "metadata": {
        "id": "O5hH-y-1cIFf",
        "colab_type": "text"
      },
      "cell_type": "markdown",
      "source": [
        "### Mascara de datos bool\n",
        "\n",
        "Para este caso en nuestro modelo no vamos a tener en cuenta los datos booleanos porque describen una caracteristica propia de cada jugador, lo cual puede llevarnos a pensar que un jugador no es similar a otro aunque tengan puntajes de cada posicion muy similar."
      ]
    },
    {
      "metadata": {
        "id": "x2A3gEhogWSb",
        "colab_type": "code",
        "colab": {
          "base_uri": "https://localhost:8080/",
          "height": 56
        },
        "outputId": "634b9d55-2e4f-4585-bf87-f1b2c4c29a59"
      },
      "cell_type": "code",
      "source": [
        "boolean = (data.dtypes == bool)\n",
        "boolean_cols = [c for c in boolean.index if boolean[c]]\n",
        "print(boolean_cols)\n",
        "print(\"Ninguna columna de tipo bool se conserva\")"
      ],
      "execution_count": 199,
      "outputs": [
        {
          "output_type": "stream",
          "text": [
            "['real_face', '1_on_1_rush_trait', 'acrobatic_clearance_trait', 'argues_with_officials_trait', 'avoids_using_weaker_foot_trait', 'backs_into_player_trait', 'bicycle_kicks_trait', 'cautious_with_crosses_trait', 'chip_shot_trait', 'chipped_penalty_trait', 'comes_for_crosses_trait', 'corner_specialist_trait', 'diver_trait', 'dives_into_tackles_trait', 'diving_header_trait', 'driven_pass_trait', 'early_crosser_trait', \"fan's_favourite_trait\", 'fancy_flicks_trait', 'finesse_shot_trait', 'flair_trait', 'flair_passes_trait', 'gk_flat_kick_trait', 'gk_long_throw_trait', 'gk_up_for_corners_trait', 'giant_throw_in_trait', 'inflexible_trait', 'injury_free_trait', 'injury_prone_trait', 'leadership_trait', 'long_passer_trait', 'long_shot_taker_trait', 'long_throw_in_trait', 'one_club_player_trait', 'outside_foot_shot_trait', 'playmaker_trait', 'power_free_kick_trait', 'power_header_trait', 'puncher_trait', 'rushes_out_of_goal_trait', 'saves_with_feet_trait', 'second_wind_trait', 'selfish_trait', 'skilled_dribbling_trait', 'stutter_penalty_trait', 'swerve_pass_trait', 'takes_finesse_free_kicks_trait', 'target_forward_trait', 'team_player_trait', 'technical_dribbler_trait', 'tries_to_beat_defensive_line_trait', 'poacher_speciality', 'speedster_speciality', 'aerial_threat_speciality', 'dribbler_speciality', 'playmaker_speciality', 'engine_speciality', 'distance_shooter_speciality', 'crosser_speciality', 'free_kick_specialist_speciality', 'tackling_speciality', 'tactician_speciality', 'acrobat_speciality', 'strength_speciality', 'clinical_finisher_speciality', 'prefers_rs', 'prefers_rw', 'prefers_rf', 'prefers_ram', 'prefers_rcm', 'prefers_rm', 'prefers_rdm', 'prefers_rcb', 'prefers_rb', 'prefers_rwb', 'prefers_st', 'prefers_lw', 'prefers_cf', 'prefers_cam', 'prefers_cm', 'prefers_lm', 'prefers_cdm', 'prefers_cb', 'prefers_lb', 'prefers_lwb', 'prefers_ls', 'prefers_lf', 'prefers_lam', 'prefers_lcm', 'prefers_ldm', 'prefers_lcb', 'prefers_gk']\n"
          ],
          "name": "stdout"
        }
      ]
    },
    {
      "metadata": {
        "id": "VoAnl9b_hAYO",
        "colab_type": "text"
      },
      "cell_type": "markdown",
      "source": [
        "### Mascara de datos númericos"
      ]
    },
    {
      "metadata": {
        "id": "pyO4aP2YRfVd",
        "colab_type": "text"
      },
      "cell_type": "markdown",
      "source": [
        "**Special Feature**\n",
        "\n",
        "Este valor es referente a lo especial que es el jugador en el mercado, lo cual nos lleva de nuevo a establecer que no es un dato que queremos evaluar, pues nuestra intención es encontrar alternativas nuevas."
      ]
    },
    {
      "metadata": {
        "id": "I3AcYrJsRjbu",
        "colab_type": "code",
        "colab": {
          "base_uri": "https://localhost:8080/",
          "height": 206
        },
        "outputId": "e73645ad-f7cd-4c4c-a52e-60ebf2e91203"
      },
      "cell_type": "code",
      "source": [
        "data[['full_name','special']].tail()"
      ],
      "execution_count": 200,
      "outputs": [
        {
          "output_type": "execute_result",
          "data": {
            "text/html": [
              "<div>\n",
              "<style scoped>\n",
              "    .dataframe tbody tr th:only-of-type {\n",
              "        vertical-align: middle;\n",
              "    }\n",
              "\n",
              "    .dataframe tbody tr th {\n",
              "        vertical-align: top;\n",
              "    }\n",
              "\n",
              "    .dataframe thead th {\n",
              "        text-align: right;\n",
              "    }\n",
              "</style>\n",
              "<table border=\"1\" class=\"dataframe\">\n",
              "  <thead>\n",
              "    <tr style=\"text-align: right;\">\n",
              "      <th></th>\n",
              "      <th>full_name</th>\n",
              "      <th>special</th>\n",
              "    </tr>\n",
              "  </thead>\n",
              "  <tbody>\n",
              "    <tr>\n",
              "      <th>17989</th>\n",
              "      <td>Adam Kelsey</td>\n",
              "      <td>755</td>\n",
              "    </tr>\n",
              "    <tr>\n",
              "      <th>17990</th>\n",
              "      <td>Barry Richardson</td>\n",
              "      <td>832</td>\n",
              "    </tr>\n",
              "    <tr>\n",
              "      <th>17991</th>\n",
              "      <td>Jordan Young</td>\n",
              "      <td>1194</td>\n",
              "    </tr>\n",
              "    <tr>\n",
              "      <th>17992</th>\n",
              "      <td>Josh Lundstram</td>\n",
              "      <td>1302</td>\n",
              "    </tr>\n",
              "    <tr>\n",
              "      <th>17993</th>\n",
              "      <td>Leslie Sackey</td>\n",
              "      <td>1031</td>\n",
              "    </tr>\n",
              "  </tbody>\n",
              "</table>\n",
              "</div>"
            ],
            "text/plain": [
              "              full_name  special\n",
              "17989       Adam Kelsey      755\n",
              "17990  Barry Richardson      832\n",
              "17991      Jordan Young     1194\n",
              "17992    Josh Lundstram     1302\n",
              "17993     Leslie Sackey     1031"
            ]
          },
          "metadata": {
            "tags": []
          },
          "execution_count": 200
        }
      ]
    },
    {
      "metadata": {
        "id": "nx6lIr8IeHYs",
        "colab_type": "code",
        "colab": {
          "base_uri": "https://localhost:8080/",
          "height": 56
        },
        "outputId": "6214a31e-0fa8-4a90-9af7-fd9e716325a6"
      },
      "cell_type": "code",
      "source": [
        "num = (data.dtypes == float) | (data.dtypes == int)\n",
        "num_cols = [c for c in num.index if num[c]==True]\n",
        "\n",
        "#Removemos reputación internacional por lo que ya destacabamos de descubrir talentos\n",
        "useless_num = ['special','eur_value', 'eur_wage', 'eur_release_clause', 'international_reputation', 'sho', 'pas', 'dri', 'def', 'phy', 'skill_moves',  'composure', 'pac', 'ID']\n",
        "\n",
        "for item in useless_num:\n",
        "  num_cols.remove(item)\n",
        "  \n",
        "len(num_cols)\n",
        "print(\"Columnas que se conservan de tipo num: \",num_cols)"
      ],
      "execution_count": 262,
      "outputs": [
        {
          "output_type": "stream",
          "text": [
            "Columnas que se conservan de tipo num:  ['age', 'height_cm', 'weight_kg', 'overall', 'potential', 'weak_foot', 'crossing', 'finishing', 'heading_accuracy', 'short_passing', 'volleys', 'dribbling', 'curve', 'free_kick_accuracy', 'long_passing', 'ball_control', 'acceleration', 'sprint_speed', 'agility', 'reactions', 'balance', 'shot_power', 'jumping', 'stamina', 'strength', 'long_shots', 'aggression', 'interceptions', 'positioning', 'vision', 'penalties', 'marking', 'standing_tackle', 'sliding_tackle', 'gk_diving', 'gk_handling', 'gk_kicking', 'gk_positioning', 'gk_reflexes', 'rs', 'rw', 'rf', 'ram', 'rcm', 'rm', 'rdm', 'rcb', 'rb', 'rwb', 'st', 'lw', 'cf', 'cam', 'cm', 'lm', 'cdm', 'cb', 'lb', 'lwb', 'ls', 'lf', 'lam', 'lcm', 'ldm', 'lcb', 'gk']\n"
          ],
          "name": "stdout"
        }
      ]
    },
    {
      "metadata": {
        "id": "MVcKf31ZVmJ0",
        "colab_type": "text"
      },
      "cell_type": "markdown",
      "source": [
        "## Se comprueba la limpieza"
      ]
    },
    {
      "metadata": {
        "id": "MtQcum-ePHkZ",
        "colab_type": "code",
        "colab": {
          "base_uri": "https://localhost:8080/",
          "height": 130
        },
        "outputId": "8259e52e-fb01-4f88-93b3-f29d012efeda"
      },
      "cell_type": "code",
      "source": [
        "data_bool = data[boolean_cols]\n",
        "data_bool.head(1)"
      ],
      "execution_count": 263,
      "outputs": [
        {
          "output_type": "execute_result",
          "data": {
            "text/html": [
              "<div>\n",
              "<style scoped>\n",
              "    .dataframe tbody tr th:only-of-type {\n",
              "        vertical-align: middle;\n",
              "    }\n",
              "\n",
              "    .dataframe tbody tr th {\n",
              "        vertical-align: top;\n",
              "    }\n",
              "\n",
              "    .dataframe thead th {\n",
              "        text-align: right;\n",
              "    }\n",
              "</style>\n",
              "<table border=\"1\" class=\"dataframe\">\n",
              "  <thead>\n",
              "    <tr style=\"text-align: right;\">\n",
              "      <th></th>\n",
              "      <th>real_face</th>\n",
              "      <th>1_on_1_rush_trait</th>\n",
              "      <th>acrobatic_clearance_trait</th>\n",
              "      <th>argues_with_officials_trait</th>\n",
              "      <th>avoids_using_weaker_foot_trait</th>\n",
              "      <th>backs_into_player_trait</th>\n",
              "      <th>bicycle_kicks_trait</th>\n",
              "      <th>cautious_with_crosses_trait</th>\n",
              "      <th>chip_shot_trait</th>\n",
              "      <th>chipped_penalty_trait</th>\n",
              "      <th>...</th>\n",
              "      <th>prefers_cb</th>\n",
              "      <th>prefers_lb</th>\n",
              "      <th>prefers_lwb</th>\n",
              "      <th>prefers_ls</th>\n",
              "      <th>prefers_lf</th>\n",
              "      <th>prefers_lam</th>\n",
              "      <th>prefers_lcm</th>\n",
              "      <th>prefers_ldm</th>\n",
              "      <th>prefers_lcb</th>\n",
              "      <th>prefers_gk</th>\n",
              "    </tr>\n",
              "  </thead>\n",
              "  <tbody>\n",
              "    <tr>\n",
              "      <th>0</th>\n",
              "      <td>True</td>\n",
              "      <td>False</td>\n",
              "      <td>False</td>\n",
              "      <td>False</td>\n",
              "      <td>False</td>\n",
              "      <td>False</td>\n",
              "      <td>False</td>\n",
              "      <td>False</td>\n",
              "      <td>False</td>\n",
              "      <td>False</td>\n",
              "      <td>...</td>\n",
              "      <td>False</td>\n",
              "      <td>False</td>\n",
              "      <td>False</td>\n",
              "      <td>False</td>\n",
              "      <td>False</td>\n",
              "      <td>False</td>\n",
              "      <td>False</td>\n",
              "      <td>False</td>\n",
              "      <td>False</td>\n",
              "      <td>False</td>\n",
              "    </tr>\n",
              "  </tbody>\n",
              "</table>\n",
              "<p>1 rows × 92 columns</p>\n",
              "</div>"
            ],
            "text/plain": [
              "   real_face  1_on_1_rush_trait  acrobatic_clearance_trait  \\\n",
              "0       True              False                      False   \n",
              "\n",
              "   argues_with_officials_trait  avoids_using_weaker_foot_trait  \\\n",
              "0                        False                           False   \n",
              "\n",
              "   backs_into_player_trait  bicycle_kicks_trait  cautious_with_crosses_trait  \\\n",
              "0                    False                False                        False   \n",
              "\n",
              "   chip_shot_trait  chipped_penalty_trait     ...      prefers_cb  prefers_lb  \\\n",
              "0            False                  False     ...           False       False   \n",
              "\n",
              "   prefers_lwb  prefers_ls  prefers_lf  prefers_lam  prefers_lcm  prefers_ldm  \\\n",
              "0        False       False       False        False        False        False   \n",
              "\n",
              "   prefers_lcb  prefers_gk  \n",
              "0        False       False  \n",
              "\n",
              "[1 rows x 92 columns]"
            ]
          },
          "metadata": {
            "tags": []
          },
          "execution_count": 263
        }
      ]
    },
    {
      "metadata": {
        "id": "hukwg4X4PH2I",
        "colab_type": "code",
        "colab": {
          "base_uri": "https://localhost:8080/",
          "height": 110
        },
        "outputId": "0259f9fd-e461-42e2-dbf9-284fd7150bb3"
      },
      "cell_type": "code",
      "source": [
        "data_num = data[num_cols]\n",
        "data_num.head(1)"
      ],
      "execution_count": 264,
      "outputs": [
        {
          "output_type": "execute_result",
          "data": {
            "text/html": [
              "<div>\n",
              "<style scoped>\n",
              "    .dataframe tbody tr th:only-of-type {\n",
              "        vertical-align: middle;\n",
              "    }\n",
              "\n",
              "    .dataframe tbody tr th {\n",
              "        vertical-align: top;\n",
              "    }\n",
              "\n",
              "    .dataframe thead th {\n",
              "        text-align: right;\n",
              "    }\n",
              "</style>\n",
              "<table border=\"1\" class=\"dataframe\">\n",
              "  <thead>\n",
              "    <tr style=\"text-align: right;\">\n",
              "      <th></th>\n",
              "      <th>age</th>\n",
              "      <th>height_cm</th>\n",
              "      <th>weight_kg</th>\n",
              "      <th>overall</th>\n",
              "      <th>potential</th>\n",
              "      <th>weak_foot</th>\n",
              "      <th>crossing</th>\n",
              "      <th>finishing</th>\n",
              "      <th>heading_accuracy</th>\n",
              "      <th>short_passing</th>\n",
              "      <th>...</th>\n",
              "      <th>cb</th>\n",
              "      <th>lb</th>\n",
              "      <th>lwb</th>\n",
              "      <th>ls</th>\n",
              "      <th>lf</th>\n",
              "      <th>lam</th>\n",
              "      <th>lcm</th>\n",
              "      <th>ldm</th>\n",
              "      <th>lcb</th>\n",
              "      <th>gk</th>\n",
              "    </tr>\n",
              "  </thead>\n",
              "  <tbody>\n",
              "    <tr>\n",
              "      <th>0</th>\n",
              "      <td>32</td>\n",
              "      <td>185.0</td>\n",
              "      <td>80.0</td>\n",
              "      <td>94</td>\n",
              "      <td>94</td>\n",
              "      <td>4</td>\n",
              "      <td>85</td>\n",
              "      <td>94</td>\n",
              "      <td>88</td>\n",
              "      <td>83</td>\n",
              "      <td>...</td>\n",
              "      <td>53.0</td>\n",
              "      <td>61.0</td>\n",
              "      <td>66.0</td>\n",
              "      <td>92.0</td>\n",
              "      <td>91.0</td>\n",
              "      <td>89.0</td>\n",
              "      <td>82.0</td>\n",
              "      <td>62.0</td>\n",
              "      <td>53.0</td>\n",
              "      <td>NaN</td>\n",
              "    </tr>\n",
              "  </tbody>\n",
              "</table>\n",
              "<p>1 rows × 66 columns</p>\n",
              "</div>"
            ],
            "text/plain": [
              "   age  height_cm  weight_kg  overall  potential  weak_foot  crossing  \\\n",
              "0   32      185.0       80.0       94         94          4        85   \n",
              "\n",
              "   finishing  heading_accuracy  short_passing ...    cb    lb   lwb    ls  \\\n",
              "0         94                88             83 ...  53.0  61.0  66.0  92.0   \n",
              "\n",
              "     lf   lam   lcm   ldm   lcb  gk  \n",
              "0  91.0  89.0  82.0  62.0  53.0 NaN  \n",
              "\n",
              "[1 rows x 66 columns]"
            ]
          },
          "metadata": {
            "tags": []
          },
          "execution_count": 264
        }
      ]
    },
    {
      "metadata": {
        "id": "IjiAWrNUhG47",
        "colab_type": "code",
        "colab": {
          "base_uri": "https://localhost:8080/",
          "height": 350
        },
        "outputId": "33429a78-d0f1-44c9-a35d-6d0353f041f5"
      },
      "cell_type": "code",
      "source": [
        "data_num.describe()"
      ],
      "execution_count": 265,
      "outputs": [
        {
          "output_type": "execute_result",
          "data": {
            "text/html": [
              "<div>\n",
              "<style scoped>\n",
              "    .dataframe tbody tr th:only-of-type {\n",
              "        vertical-align: middle;\n",
              "    }\n",
              "\n",
              "    .dataframe tbody tr th {\n",
              "        vertical-align: top;\n",
              "    }\n",
              "\n",
              "    .dataframe thead th {\n",
              "        text-align: right;\n",
              "    }\n",
              "</style>\n",
              "<table border=\"1\" class=\"dataframe\">\n",
              "  <thead>\n",
              "    <tr style=\"text-align: right;\">\n",
              "      <th></th>\n",
              "      <th>age</th>\n",
              "      <th>height_cm</th>\n",
              "      <th>weight_kg</th>\n",
              "      <th>overall</th>\n",
              "      <th>potential</th>\n",
              "      <th>weak_foot</th>\n",
              "      <th>crossing</th>\n",
              "      <th>finishing</th>\n",
              "      <th>heading_accuracy</th>\n",
              "      <th>short_passing</th>\n",
              "      <th>...</th>\n",
              "      <th>cb</th>\n",
              "      <th>lb</th>\n",
              "      <th>lwb</th>\n",
              "      <th>ls</th>\n",
              "      <th>lf</th>\n",
              "      <th>lam</th>\n",
              "      <th>lcm</th>\n",
              "      <th>ldm</th>\n",
              "      <th>lcb</th>\n",
              "      <th>gk</th>\n",
              "    </tr>\n",
              "  </thead>\n",
              "  <tbody>\n",
              "    <tr>\n",
              "      <th>count</th>\n",
              "      <td>17994.000000</td>\n",
              "      <td>17994.000000</td>\n",
              "      <td>17994.000000</td>\n",
              "      <td>17994.000000</td>\n",
              "      <td>17994.000000</td>\n",
              "      <td>17994.000000</td>\n",
              "      <td>17994.000000</td>\n",
              "      <td>17994.000000</td>\n",
              "      <td>17994.000000</td>\n",
              "      <td>17994.000000</td>\n",
              "      <td>...</td>\n",
              "      <td>15973.000000</td>\n",
              "      <td>15973.000000</td>\n",
              "      <td>15973.000000</td>\n",
              "      <td>15973.000000</td>\n",
              "      <td>15973.000000</td>\n",
              "      <td>15973.000000</td>\n",
              "      <td>15973.000000</td>\n",
              "      <td>15973.000000</td>\n",
              "      <td>15973.000000</td>\n",
              "      <td>2021.000000</td>\n",
              "    </tr>\n",
              "    <tr>\n",
              "      <th>mean</th>\n",
              "      <td>25.120151</td>\n",
              "      <td>181.271980</td>\n",
              "      <td>75.400856</td>\n",
              "      <td>66.253029</td>\n",
              "      <td>71.200400</td>\n",
              "      <td>2.948927</td>\n",
              "      <td>49.806046</td>\n",
              "      <td>45.330388</td>\n",
              "      <td>52.379293</td>\n",
              "      <td>58.338891</td>\n",
              "      <td>...</td>\n",
              "      <td>55.553747</td>\n",
              "      <td>56.990985</td>\n",
              "      <td>57.710574</td>\n",
              "      <td>58.216115</td>\n",
              "      <td>59.042384</td>\n",
              "      <td>59.262819</td>\n",
              "      <td>58.515244</td>\n",
              "      <td>56.871220</td>\n",
              "      <td>55.553747</td>\n",
              "      <td>64.714003</td>\n",
              "    </tr>\n",
              "    <tr>\n",
              "      <th>std</th>\n",
              "      <td>4.617428</td>\n",
              "      <td>6.690392</td>\n",
              "      <td>6.994824</td>\n",
              "      <td>6.946729</td>\n",
              "      <td>6.082015</td>\n",
              "      <td>0.661107</td>\n",
              "      <td>18.436764</td>\n",
              "      <td>19.479680</td>\n",
              "      <td>17.395498</td>\n",
              "      <td>14.867599</td>\n",
              "      <td>...</td>\n",
              "      <td>12.183008</td>\n",
              "      <td>9.773546</td>\n",
              "      <td>9.119380</td>\n",
              "      <td>9.162295</td>\n",
              "      <td>9.898161</td>\n",
              "      <td>9.845668</td>\n",
              "      <td>8.844482</td>\n",
              "      <td>10.285525</td>\n",
              "      <td>12.183008</td>\n",
              "      <td>7.661938</td>\n",
              "    </tr>\n",
              "    <tr>\n",
              "      <th>min</th>\n",
              "      <td>16.000000</td>\n",
              "      <td>155.000000</td>\n",
              "      <td>49.000000</td>\n",
              "      <td>46.000000</td>\n",
              "      <td>46.000000</td>\n",
              "      <td>1.000000</td>\n",
              "      <td>5.000000</td>\n",
              "      <td>2.000000</td>\n",
              "      <td>4.000000</td>\n",
              "      <td>10.000000</td>\n",
              "      <td>...</td>\n",
              "      <td>25.000000</td>\n",
              "      <td>30.000000</td>\n",
              "      <td>31.000000</td>\n",
              "      <td>31.000000</td>\n",
              "      <td>27.000000</td>\n",
              "      <td>27.000000</td>\n",
              "      <td>30.000000</td>\n",
              "      <td>26.000000</td>\n",
              "      <td>25.000000</td>\n",
              "      <td>46.000000</td>\n",
              "    </tr>\n",
              "    <tr>\n",
              "      <th>25%</th>\n",
              "      <td>21.000000</td>\n",
              "      <td>177.000000</td>\n",
              "      <td>70.000000</td>\n",
              "      <td>62.000000</td>\n",
              "      <td>67.000000</td>\n",
              "      <td>3.000000</td>\n",
              "      <td>38.000000</td>\n",
              "      <td>29.000000</td>\n",
              "      <td>45.000000</td>\n",
              "      <td>53.000000</td>\n",
              "      <td>...</td>\n",
              "      <td>45.000000</td>\n",
              "      <td>50.000000</td>\n",
              "      <td>51.000000</td>\n",
              "      <td>52.000000</td>\n",
              "      <td>53.000000</td>\n",
              "      <td>53.000000</td>\n",
              "      <td>53.000000</td>\n",
              "      <td>49.000000</td>\n",
              "      <td>45.000000</td>\n",
              "      <td>59.000000</td>\n",
              "    </tr>\n",
              "    <tr>\n",
              "      <th>50%</th>\n",
              "      <td>25.000000</td>\n",
              "      <td>181.000000</td>\n",
              "      <td>75.000000</td>\n",
              "      <td>66.000000</td>\n",
              "      <td>71.000000</td>\n",
              "      <td>3.000000</td>\n",
              "      <td>54.000000</td>\n",
              "      <td>48.000000</td>\n",
              "      <td>56.000000</td>\n",
              "      <td>62.000000</td>\n",
              "      <td>...</td>\n",
              "      <td>57.000000</td>\n",
              "      <td>58.000000</td>\n",
              "      <td>58.000000</td>\n",
              "      <td>59.000000</td>\n",
              "      <td>60.000000</td>\n",
              "      <td>60.000000</td>\n",
              "      <td>59.000000</td>\n",
              "      <td>58.000000</td>\n",
              "      <td>57.000000</td>\n",
              "      <td>65.000000</td>\n",
              "    </tr>\n",
              "    <tr>\n",
              "      <th>75%</th>\n",
              "      <td>28.000000</td>\n",
              "      <td>186.000000</td>\n",
              "      <td>80.000000</td>\n",
              "      <td>71.000000</td>\n",
              "      <td>75.000000</td>\n",
              "      <td>3.000000</td>\n",
              "      <td>64.000000</td>\n",
              "      <td>61.750000</td>\n",
              "      <td>64.000000</td>\n",
              "      <td>68.000000</td>\n",
              "      <td>...</td>\n",
              "      <td>65.000000</td>\n",
              "      <td>64.000000</td>\n",
              "      <td>64.000000</td>\n",
              "      <td>65.000000</td>\n",
              "      <td>66.000000</td>\n",
              "      <td>66.000000</td>\n",
              "      <td>65.000000</td>\n",
              "      <td>65.000000</td>\n",
              "      <td>65.000000</td>\n",
              "      <td>70.000000</td>\n",
              "    </tr>\n",
              "    <tr>\n",
              "      <th>max</th>\n",
              "      <td>47.000000</td>\n",
              "      <td>205.000000</td>\n",
              "      <td>110.000000</td>\n",
              "      <td>94.000000</td>\n",
              "      <td>94.000000</td>\n",
              "      <td>5.000000</td>\n",
              "      <td>90.000000</td>\n",
              "      <td>95.000000</td>\n",
              "      <td>94.000000</td>\n",
              "      <td>92.000000</td>\n",
              "      <td>...</td>\n",
              "      <td>87.000000</td>\n",
              "      <td>84.000000</td>\n",
              "      <td>85.000000</td>\n",
              "      <td>92.000000</td>\n",
              "      <td>92.000000</td>\n",
              "      <td>92.000000</td>\n",
              "      <td>87.000000</td>\n",
              "      <td>85.000000</td>\n",
              "      <td>87.000000</td>\n",
              "      <td>92.000000</td>\n",
              "    </tr>\n",
              "  </tbody>\n",
              "</table>\n",
              "<p>8 rows × 66 columns</p>\n",
              "</div>"
            ],
            "text/plain": [
              "                age     height_cm     weight_kg       overall     potential  \\\n",
              "count  17994.000000  17994.000000  17994.000000  17994.000000  17994.000000   \n",
              "mean      25.120151    181.271980     75.400856     66.253029     71.200400   \n",
              "std        4.617428      6.690392      6.994824      6.946729      6.082015   \n",
              "min       16.000000    155.000000     49.000000     46.000000     46.000000   \n",
              "25%       21.000000    177.000000     70.000000     62.000000     67.000000   \n",
              "50%       25.000000    181.000000     75.000000     66.000000     71.000000   \n",
              "75%       28.000000    186.000000     80.000000     71.000000     75.000000   \n",
              "max       47.000000    205.000000    110.000000     94.000000     94.000000   \n",
              "\n",
              "          weak_foot      crossing     finishing  heading_accuracy  \\\n",
              "count  17994.000000  17994.000000  17994.000000      17994.000000   \n",
              "mean       2.948927     49.806046     45.330388         52.379293   \n",
              "std        0.661107     18.436764     19.479680         17.395498   \n",
              "min        1.000000      5.000000      2.000000          4.000000   \n",
              "25%        3.000000     38.000000     29.000000         45.000000   \n",
              "50%        3.000000     54.000000     48.000000         56.000000   \n",
              "75%        3.000000     64.000000     61.750000         64.000000   \n",
              "max        5.000000     90.000000     95.000000         94.000000   \n",
              "\n",
              "       short_passing     ...                 cb            lb           lwb  \\\n",
              "count   17994.000000     ...       15973.000000  15973.000000  15973.000000   \n",
              "mean       58.338891     ...          55.553747     56.990985     57.710574   \n",
              "std        14.867599     ...          12.183008      9.773546      9.119380   \n",
              "min        10.000000     ...          25.000000     30.000000     31.000000   \n",
              "25%        53.000000     ...          45.000000     50.000000     51.000000   \n",
              "50%        62.000000     ...          57.000000     58.000000     58.000000   \n",
              "75%        68.000000     ...          65.000000     64.000000     64.000000   \n",
              "max        92.000000     ...          87.000000     84.000000     85.000000   \n",
              "\n",
              "                 ls            lf           lam           lcm           ldm  \\\n",
              "count  15973.000000  15973.000000  15973.000000  15973.000000  15973.000000   \n",
              "mean      58.216115     59.042384     59.262819     58.515244     56.871220   \n",
              "std        9.162295      9.898161      9.845668      8.844482     10.285525   \n",
              "min       31.000000     27.000000     27.000000     30.000000     26.000000   \n",
              "25%       52.000000     53.000000     53.000000     53.000000     49.000000   \n",
              "50%       59.000000     60.000000     60.000000     59.000000     58.000000   \n",
              "75%       65.000000     66.000000     66.000000     65.000000     65.000000   \n",
              "max       92.000000     92.000000     92.000000     87.000000     85.000000   \n",
              "\n",
              "                lcb           gk  \n",
              "count  15973.000000  2021.000000  \n",
              "mean      55.553747    64.714003  \n",
              "std       12.183008     7.661938  \n",
              "min       25.000000    46.000000  \n",
              "25%       45.000000    59.000000  \n",
              "50%       57.000000    65.000000  \n",
              "75%       65.000000    70.000000  \n",
              "max       87.000000    92.000000  \n",
              "\n",
              "[8 rows x 66 columns]"
            ]
          },
          "metadata": {
            "tags": []
          },
          "execution_count": 265
        }
      ]
    },
    {
      "metadata": {
        "id": "LHViEp0iiLNr",
        "colab_type": "text"
      },
      "cell_type": "markdown",
      "source": [
        "### Entiendiendo los datos con Gráficas"
      ]
    },
    {
      "metadata": {
        "id": "0PxcXHh-Vk1F",
        "colab_type": "code",
        "colab": {
          "base_uri": "https://localhost:8080/",
          "height": 737
        },
        "outputId": "0a9fc977-7d94-473e-8538-be1bb2132a37"
      },
      "cell_type": "code",
      "source": [
        "pote_hist = data_num['potential'].hist(figsize=(20,12))\n",
        "pote_hist.set_title(\"Histogram of Potential\", fontsize=16);\n",
        "pote_hist.set_xlabel(\"Potential\",fontsize=16);\n",
        "pote_hist.set_ylabel(\"# Characters\", fontsize=16);"
      ],
      "execution_count": 277,
      "outputs": [
        {
          "output_type": "display_data",
          "data": {
            "image/png": "[encoded data removed]",
            "text/plain": [
              "<matplotlib.figure.Figure at 0x7fa93ba46780>"
            ]
          },
          "metadata": {
            "tags": []
          }
        }
      ]
    },
    {
      "metadata": {
        "id": "ZSSC8r68hUUj",
        "colab_type": "code",
        "colab": {
          "base_uri": "https://localhost:8080/",
          "height": 737
        },
        "outputId": "96068fae-2399-4134-8232-6219fd983b82"
      },
      "cell_type": "code",
      "source": [
        "pote_hist = data_num['potential'].hist(figsize=(20,12))\n",
        "pote_hist.set_title(\"Histogram of Potential\", fontsize=16);\n",
        "pote_hist.set_xlabel(\"Potential\", fontsize=16);\n",
        "pote_hist.set_ylabel(\"# Characters\", fontsize=16);"
      ],
      "execution_count": 278,
      "outputs": [
        {
          "output_type": "display_data",
          "data": {
            "image/png": "[encoded data removed]",
            "text/plain": [
              "<matplotlib.figure.Figure at 0x7fa93a7f9c50>"
            ]
          },
          "metadata": {
            "tags": []
          }
        }
      ]
    },
    {
      "metadata": {
        "id": "KPesSSonhhGR",
        "colab_type": "code",
        "colab": {
          "base_uri": "https://localhost:8080/",
          "height": 756
        },
        "outputId": "4fa51c85-30f2-4491-e1ab-19dcb7411865"
      },
      "cell_type": "code",
      "source": [
        "age_hist = data_num['age'].hist(figsize=(20,12)) #Talvez se represente mejor en escala logaritmica colocando dentro de hist asi hist(log=True)\n",
        "age_hist.set_title(\"Histogram of Ages\",fontsize=16);\n",
        "age_hist.set_xlabel(\"Age\", fontsize=16);\n",
        "age_hist.set_ylabel(\"# Characters\", fontsize=16);"
      ],
      "execution_count": 281,
      "outputs": [
        {
          "output_type": "execute_result",
          "data": {
            "text/plain": [
              "Text(0,0.5,'# Characters')"
            ]
          },
          "metadata": {
            "tags": []
          },
          "execution_count": 281
        },
        {
          "output_type": "display_data",
          "data": {
            "image/png": "[encoded data removed]",
            "text/plain": [
              "<matplotlib.figure.Figure at 0x7fa93a0e5080>"
            ]
          },
          "metadata": {
            "tags": []
          }
        }
      ]
    },
    {
      "metadata": {
        "id": "_eous79sP3j3",
        "colab_type": "code",
        "colab": {
          "base_uri": "https://localhost:8080/",
          "height": 737
        },
        "outputId": "caa47a8c-6497-405c-ef51-795c2a8b113c"
      },
      "cell_type": "code",
      "source": [
        "age_hist = data_num['height_cm'].hist(figsize=(20,12))\n",
        "age_hist.set_title(\"Histogram of Heights\", fontsize=16);\n",
        "age_hist.set_xlabel(\"Height (cm)\", fontsize=16);\n",
        "age_hist.set_ylabel(\"# Characters\", fontsize=16);"
      ],
      "execution_count": 282,
      "outputs": [
        {
          "output_type": "display_data",
          "data": {
            "image/png": "[encoded data removed]",
            "text/plain": [
              "<matplotlib.figure.Figure at 0x7fa93aa086d8>"
            ]
          },
          "metadata": {
            "tags": []
          }
        }
      ]
    },
    {
      "metadata": {
        "id": "XRIMWKVYKRVy",
        "colab_type": "code",
        "colab": {
          "base_uri": "https://localhost:8080/",
          "height": 737
        },
        "outputId": "b701d46f-3bc5-42d2-eaea-151d7644c24d"
      },
      "cell_type": "code",
      "source": [
        "age_hist = data_num['weight_kg'].hist(figsize=(20,12))\n",
        "age_hist.set_title(\"Histogram of Weights\", fontsize=16);\n",
        "age_hist.set_xlabel(\"Weight (kg)\", fontsize=16);\n",
        "age_hist.set_ylabel(\"# Characters\", fontsize=16);"
      ],
      "execution_count": 283,
      "outputs": [
        {
          "output_type": "display_data",
          "data": {
            "image/png": "[encoded data removed]",
            "text/plain": [
              "<matplotlib.figure.Figure at 0x7fa93b69eb70>"
            ]
          },
          "metadata": {
            "tags": []
          }
        }
      ]
    },
    {
      "metadata": {
        "id": "pWAT1dodQVhu",
        "colab_type": "code",
        "colab": {}
      },
      "cell_type": "code",
      "source": [
        "comparison_data = data[obj_cols + num_cols]"
      ],
      "execution_count": 0,
      "outputs": []
    },
    {
      "metadata": {
        "id": "pZWwi7zzO3bo",
        "colab_type": "code",
        "colab": {
          "base_uri": "https://localhost:8080/",
          "height": 236
        },
        "outputId": "4960cd0a-dd8e-4ad6-f1cc-b4eceeda37cd"
      },
      "cell_type": "code",
      "source": [
        "comparison_data.head()"
      ],
      "execution_count": 285,
      "outputs": [
        {
          "output_type": "execute_result",
          "data": {
            "text/html": [
              "<div>\n",
              "<style scoped>\n",
              "    .dataframe tbody tr th:only-of-type {\n",
              "        vertical-align: middle;\n",
              "    }\n",
              "\n",
              "    .dataframe tbody tr th {\n",
              "        vertical-align: top;\n",
              "    }\n",
              "\n",
              "    .dataframe thead th {\n",
              "        text-align: right;\n",
              "    }\n",
              "</style>\n",
              "<table border=\"1\" class=\"dataframe\">\n",
              "  <thead>\n",
              "    <tr style=\"text-align: right;\">\n",
              "      <th></th>\n",
              "      <th>full_name</th>\n",
              "      <th>preferred_foot</th>\n",
              "      <th>age</th>\n",
              "      <th>height_cm</th>\n",
              "      <th>weight_kg</th>\n",
              "      <th>overall</th>\n",
              "      <th>potential</th>\n",
              "      <th>weak_foot</th>\n",
              "      <th>crossing</th>\n",
              "      <th>finishing</th>\n",
              "      <th>...</th>\n",
              "      <th>cb</th>\n",
              "      <th>lb</th>\n",
              "      <th>lwb</th>\n",
              "      <th>ls</th>\n",
              "      <th>lf</th>\n",
              "      <th>lam</th>\n",
              "      <th>lcm</th>\n",
              "      <th>ldm</th>\n",
              "      <th>lcb</th>\n",
              "      <th>gk</th>\n",
              "    </tr>\n",
              "  </thead>\n",
              "  <tbody>\n",
              "    <tr>\n",
              "      <th>0</th>\n",
              "      <td>C. Ronaldo dos Santos Aveiro</td>\n",
              "      <td>Right</td>\n",
              "      <td>32</td>\n",
              "      <td>185.0</td>\n",
              "      <td>80.0</td>\n",
              "      <td>94</td>\n",
              "      <td>94</td>\n",
              "      <td>4</td>\n",
              "      <td>85</td>\n",
              "      <td>94</td>\n",
              "      <td>...</td>\n",
              "      <td>53.0</td>\n",
              "      <td>61.0</td>\n",
              "      <td>66.0</td>\n",
              "      <td>92.0</td>\n",
              "      <td>91.0</td>\n",
              "      <td>89.0</td>\n",
              "      <td>82.0</td>\n",
              "      <td>62.0</td>\n",
              "      <td>53.0</td>\n",
              "      <td>NaN</td>\n",
              "    </tr>\n",
              "    <tr>\n",
              "      <th>1</th>\n",
              "      <td>Lionel Messi</td>\n",
              "      <td>Left</td>\n",
              "      <td>30</td>\n",
              "      <td>170.0</td>\n",
              "      <td>72.0</td>\n",
              "      <td>93</td>\n",
              "      <td>93</td>\n",
              "      <td>4</td>\n",
              "      <td>77</td>\n",
              "      <td>95</td>\n",
              "      <td>...</td>\n",
              "      <td>45.0</td>\n",
              "      <td>57.0</td>\n",
              "      <td>62.0</td>\n",
              "      <td>88.0</td>\n",
              "      <td>92.0</td>\n",
              "      <td>92.0</td>\n",
              "      <td>84.0</td>\n",
              "      <td>59.0</td>\n",
              "      <td>45.0</td>\n",
              "      <td>NaN</td>\n",
              "    </tr>\n",
              "    <tr>\n",
              "      <th>2</th>\n",
              "      <td>Neymar da Silva Santos Jr.</td>\n",
              "      <td>Right</td>\n",
              "      <td>25</td>\n",
              "      <td>175.0</td>\n",
              "      <td>68.0</td>\n",
              "      <td>92</td>\n",
              "      <td>94</td>\n",
              "      <td>5</td>\n",
              "      <td>75</td>\n",
              "      <td>89</td>\n",
              "      <td>...</td>\n",
              "      <td>46.0</td>\n",
              "      <td>59.0</td>\n",
              "      <td>64.0</td>\n",
              "      <td>84.0</td>\n",
              "      <td>88.0</td>\n",
              "      <td>88.0</td>\n",
              "      <td>79.0</td>\n",
              "      <td>59.0</td>\n",
              "      <td>46.0</td>\n",
              "      <td>NaN</td>\n",
              "    </tr>\n",
              "    <tr>\n",
              "      <th>3</th>\n",
              "      <td>Luis Suárez</td>\n",
              "      <td>Right</td>\n",
              "      <td>30</td>\n",
              "      <td>182.0</td>\n",
              "      <td>86.0</td>\n",
              "      <td>92</td>\n",
              "      <td>92</td>\n",
              "      <td>4</td>\n",
              "      <td>77</td>\n",
              "      <td>94</td>\n",
              "      <td>...</td>\n",
              "      <td>58.0</td>\n",
              "      <td>64.0</td>\n",
              "      <td>68.0</td>\n",
              "      <td>88.0</td>\n",
              "      <td>88.0</td>\n",
              "      <td>87.0</td>\n",
              "      <td>80.0</td>\n",
              "      <td>65.0</td>\n",
              "      <td>58.0</td>\n",
              "      <td>NaN</td>\n",
              "    </tr>\n",
              "    <tr>\n",
              "      <th>4</th>\n",
              "      <td>Manuel Neuer</td>\n",
              "      <td>Right</td>\n",
              "      <td>31</td>\n",
              "      <td>193.0</td>\n",
              "      <td>92.0</td>\n",
              "      <td>92</td>\n",
              "      <td>92</td>\n",
              "      <td>4</td>\n",
              "      <td>15</td>\n",
              "      <td>13</td>\n",
              "      <td>...</td>\n",
              "      <td>NaN</td>\n",
              "      <td>NaN</td>\n",
              "      <td>NaN</td>\n",
              "      <td>NaN</td>\n",
              "      <td>NaN</td>\n",
              "      <td>NaN</td>\n",
              "      <td>NaN</td>\n",
              "      <td>NaN</td>\n",
              "      <td>NaN</td>\n",
              "      <td>92.0</td>\n",
              "    </tr>\n",
              "  </tbody>\n",
              "</table>\n",
              "<p>5 rows × 68 columns</p>\n",
              "</div>"
            ],
            "text/plain": [
              "                      full_name preferred_foot  age  height_cm  weight_kg  \\\n",
              "0  C. Ronaldo dos Santos Aveiro          Right   32      185.0       80.0   \n",
              "1                  Lionel Messi           Left   30      170.0       72.0   \n",
              "2    Neymar da Silva Santos Jr.          Right   25      175.0       68.0   \n",
              "3                   Luis Suárez          Right   30      182.0       86.0   \n",
              "4                  Manuel Neuer          Right   31      193.0       92.0   \n",
              "\n",
              "   overall  potential  weak_foot  crossing  finishing  ...     cb    lb   lwb  \\\n",
              "0       94         94          4        85         94  ...   53.0  61.0  66.0   \n",
              "1       93         93          4        77         95  ...   45.0  57.0  62.0   \n",
              "2       92         94          5        75         89  ...   46.0  59.0  64.0   \n",
              "3       92         92          4        77         94  ...   58.0  64.0  68.0   \n",
              "4       92         92          4        15         13  ...    NaN   NaN   NaN   \n",
              "\n",
              "     ls    lf   lam   lcm   ldm   lcb    gk  \n",
              "0  92.0  91.0  89.0  82.0  62.0  53.0   NaN  \n",
              "1  88.0  92.0  92.0  84.0  59.0  45.0   NaN  \n",
              "2  84.0  88.0  88.0  79.0  59.0  46.0   NaN  \n",
              "3  88.0  88.0  87.0  80.0  65.0  58.0   NaN  \n",
              "4   NaN   NaN   NaN   NaN   NaN   NaN  92.0  \n",
              "\n",
              "[5 rows x 68 columns]"
            ]
          },
          "metadata": {
            "tags": []
          },
          "execution_count": 285
        }
      ]
    },
    {
      "metadata": {
        "id": "bzJIHr32O5aD",
        "colab_type": "code",
        "colab": {
          "base_uri": "https://localhost:8080/",
          "height": 36
        },
        "outputId": "3da6fb9b-aece-492c-85d3-d18120c91a96"
      },
      "cell_type": "code",
      "source": [
        "data.shape"
      ],
      "execution_count": 286,
      "outputs": [
        {
          "output_type": "execute_result",
          "data": {
            "text/plain": [
              "(17994, 185)"
            ]
          },
          "metadata": {
            "tags": []
          },
          "execution_count": 286
        }
      ]
    },
    {
      "metadata": {
        "id": "BcxZYPARPqos",
        "colab_type": "code",
        "colab": {
          "base_uri": "https://localhost:8080/",
          "height": 36
        },
        "outputId": "907c5efb-a72e-4374-f535-e6442cf4b736"
      },
      "cell_type": "code",
      "source": [
        "comparison_data.shape"
      ],
      "execution_count": 287,
      "outputs": [
        {
          "output_type": "execute_result",
          "data": {
            "text/plain": [
              "(17994, 68)"
            ]
          },
          "metadata": {
            "tags": []
          },
          "execution_count": 287
        }
      ]
    },
    {
      "metadata": {
        "id": "_MVpuVNbPsJN",
        "colab_type": "code",
        "colab": {
          "base_uri": "https://localhost:8080/",
          "height": 262
        },
        "outputId": "48505162-7082-49e2-9d43-977f69eabda0"
      },
      "cell_type": "code",
      "source": [
        "comparison_data.columns"
      ],
      "execution_count": 288,
      "outputs": [
        {
          "output_type": "execute_result",
          "data": {
            "text/plain": [
              "Index(['full_name', 'preferred_foot', 'age', 'height_cm', 'weight_kg',\n",
              "       'overall', 'potential', 'weak_foot', 'crossing', 'finishing',\n",
              "       'heading_accuracy', 'short_passing', 'volleys', 'dribbling', 'curve',\n",
              "       'free_kick_accuracy', 'long_passing', 'ball_control', 'acceleration',\n",
              "       'sprint_speed', 'agility', 'reactions', 'balance', 'shot_power',\n",
              "       'jumping', 'stamina', 'strength', 'long_shots', 'aggression',\n",
              "       'interceptions', 'positioning', 'vision', 'penalties', 'marking',\n",
              "       'standing_tackle', 'sliding_tackle', 'gk_diving', 'gk_handling',\n",
              "       'gk_kicking', 'gk_positioning', 'gk_reflexes', 'rs', 'rw', 'rf', 'ram',\n",
              "       'rcm', 'rm', 'rdm', 'rcb', 'rb', 'rwb', 'st', 'lw', 'cf', 'cam', 'cm',\n",
              "       'lm', 'cdm', 'cb', 'lb', 'lwb', 'ls', 'lf', 'lam', 'lcm', 'ldm', 'lcb',\n",
              "       'gk'],\n",
              "      dtype='object')"
            ]
          },
          "metadata": {
            "tags": []
          },
          "execution_count": 288
        }
      ]
    },
    {
      "metadata": {
        "id": "leVYREsSxbvv",
        "colab_type": "text"
      },
      "cell_type": "markdown",
      "source": [
        "full_name, work_rate_att, work_rate_def, ID, pac, sho, pas, dri, def, phy, skill_moves,  composure"
      ]
    },
    {
      "metadata": {
        "id": "OvdDcoVeRnku",
        "colab_type": "code",
        "colab": {
          "base_uri": "https://localhost:8080/",
          "height": 1187
        },
        "outputId": "27ae5928-293b-4865-d0c0-e11901b3d285"
      },
      "cell_type": "code",
      "source": [
        "messi = comparison_data.loc[1,:]\n",
        "messi"
      ],
      "execution_count": 289,
      "outputs": [
        {
          "output_type": "execute_result",
          "data": {
            "text/plain": [
              "full_name             Lionel Messi\n",
              "preferred_foot                Left\n",
              "age                             30\n",
              "height_cm                      170\n",
              "weight_kg                       72\n",
              "overall                         93\n",
              "potential                       93\n",
              "weak_foot                        4\n",
              "crossing                        77\n",
              "finishing                       95\n",
              "heading_accuracy                71\n",
              "short_passing                   88\n",
              "volleys                         85\n",
              "dribbling                       97\n",
              "curve                           89\n",
              "free_kick_accuracy              90\n",
              "long_passing                    87\n",
              "ball_control                    95\n",
              "acceleration                    92\n",
              "sprint_speed                    87\n",
              "agility                         90\n",
              "reactions                       95\n",
              "balance                         95\n",
              "shot_power                      85\n",
              "jumping                         68\n",
              "stamina                         73\n",
              "strength                        59\n",
              "long_shots                      88\n",
              "aggression                      48\n",
              "interceptions                   22\n",
              "                          ...     \n",
              "gk_kicking                      15\n",
              "gk_positioning                  14\n",
              "gk_reflexes                      8\n",
              "rs                              88\n",
              "rw                              91\n",
              "rf                              92\n",
              "ram                             92\n",
              "rcm                             84\n",
              "rm                              90\n",
              "rdm                             59\n",
              "rcb                             45\n",
              "rb                              57\n",
              "rwb                             62\n",
              "st                              88\n",
              "lw                              91\n",
              "cf                              92\n",
              "cam                             92\n",
              "cm                              84\n",
              "lm                              90\n",
              "cdm                             59\n",
              "cb                              45\n",
              "lb                              57\n",
              "lwb                             62\n",
              "ls                              88\n",
              "lf                              92\n",
              "lam                             92\n",
              "lcm                             84\n",
              "ldm                             59\n",
              "lcb                             45\n",
              "gk                             NaN\n",
              "Name: 1, Length: 68, dtype: object"
            ]
          },
          "metadata": {
            "tags": []
          },
          "execution_count": 289
        }
      ]
    },
    {
      "metadata": {
        "id": "tTDFgE6w_P45",
        "colab_type": "text"
      },
      "cell_type": "markdown",
      "source": [
        "**Convirtiendo valores de tipo obj a bool**"
      ]
    },
    {
      "metadata": {
        "id": "OrsWb85BTpLz",
        "colab_type": "code",
        "colab": {
          "base_uri": "https://localhost:8080/",
          "height": 236
        },
        "outputId": "25694982-b2ca-4fad-b975-be09a7cdc129"
      },
      "cell_type": "code",
      "source": [
        "comparison_data = comparison_data.rename(index=str, columns={\"preferred_foot\": \"prefered_foot_left\"})\n",
        "comparison_data['prefered_foot_left'] = comparison_data['prefered_foot_left'].replace({'Left': 1, 'Right': 0})\n",
        "comparison_data.head()"
      ],
      "execution_count": 290,
      "outputs": [
        {
          "output_type": "execute_result",
          "data": {
            "text/html": [
              "<div>\n",
              "<style scoped>\n",
              "    .dataframe tbody tr th:only-of-type {\n",
              "        vertical-align: middle;\n",
              "    }\n",
              "\n",
              "    .dataframe tbody tr th {\n",
              "        vertical-align: top;\n",
              "    }\n",
              "\n",
              "    .dataframe thead th {\n",
              "        text-align: right;\n",
              "    }\n",
              "</style>\n",
              "<table border=\"1\" class=\"dataframe\">\n",
              "  <thead>\n",
              "    <tr style=\"text-align: right;\">\n",
              "      <th></th>\n",
              "      <th>full_name</th>\n",
              "      <th>prefered_foot_left</th>\n",
              "      <th>age</th>\n",
              "      <th>height_cm</th>\n",
              "      <th>weight_kg</th>\n",
              "      <th>overall</th>\n",
              "      <th>potential</th>\n",
              "      <th>weak_foot</th>\n",
              "      <th>crossing</th>\n",
              "      <th>finishing</th>\n",
              "      <th>...</th>\n",
              "      <th>cb</th>\n",
              "      <th>lb</th>\n",
              "      <th>lwb</th>\n",
              "      <th>ls</th>\n",
              "      <th>lf</th>\n",
              "      <th>lam</th>\n",
              "      <th>lcm</th>\n",
              "      <th>ldm</th>\n",
              "      <th>lcb</th>\n",
              "      <th>gk</th>\n",
              "    </tr>\n",
              "  </thead>\n",
              "  <tbody>\n",
              "    <tr>\n",
              "      <th>0</th>\n",
              "      <td>C. Ronaldo dos Santos Aveiro</td>\n",
              "      <td>0</td>\n",
              "      <td>32</td>\n",
              "      <td>185.0</td>\n",
              "      <td>80.0</td>\n",
              "      <td>94</td>\n",
              "      <td>94</td>\n",
              "      <td>4</td>\n",
              "      <td>85</td>\n",
              "      <td>94</td>\n",
              "      <td>...</td>\n",
              "      <td>53.0</td>\n",
              "      <td>61.0</td>\n",
              "      <td>66.0</td>\n",
              "      <td>92.0</td>\n",
              "      <td>91.0</td>\n",
              "      <td>89.0</td>\n",
              "      <td>82.0</td>\n",
              "      <td>62.0</td>\n",
              "      <td>53.0</td>\n",
              "      <td>NaN</td>\n",
              "    </tr>\n",
              "    <tr>\n",
              "      <th>1</th>\n",
              "      <td>Lionel Messi</td>\n",
              "      <td>1</td>\n",
              "      <td>30</td>\n",
              "      <td>170.0</td>\n",
              "      <td>72.0</td>\n",
              "      <td>93</td>\n",
              "      <td>93</td>\n",
              "      <td>4</td>\n",
              "      <td>77</td>\n",
              "      <td>95</td>\n",
              "      <td>...</td>\n",
              "      <td>45.0</td>\n",
              "      <td>57.0</td>\n",
              "      <td>62.0</td>\n",
              "      <td>88.0</td>\n",
              "      <td>92.0</td>\n",
              "      <td>92.0</td>\n",
              "      <td>84.0</td>\n",
              "      <td>59.0</td>\n",
              "      <td>45.0</td>\n",
              "      <td>NaN</td>\n",
              "    </tr>\n",
              "    <tr>\n",
              "      <th>2</th>\n",
              "      <td>Neymar da Silva Santos Jr.</td>\n",
              "      <td>0</td>\n",
              "      <td>25</td>\n",
              "      <td>175.0</td>\n",
              "      <td>68.0</td>\n",
              "      <td>92</td>\n",
              "      <td>94</td>\n",
              "      <td>5</td>\n",
              "      <td>75</td>\n",
              "      <td>89</td>\n",
              "      <td>...</td>\n",
              "      <td>46.0</td>\n",
              "      <td>59.0</td>\n",
              "      <td>64.0</td>\n",
              "      <td>84.0</td>\n",
              "      <td>88.0</td>\n",
              "      <td>88.0</td>\n",
              "      <td>79.0</td>\n",
              "      <td>59.0</td>\n",
              "      <td>46.0</td>\n",
              "      <td>NaN</td>\n",
              "    </tr>\n",
              "    <tr>\n",
              "      <th>3</th>\n",
              "      <td>Luis Suárez</td>\n",
              "      <td>0</td>\n",
              "      <td>30</td>\n",
              "      <td>182.0</td>\n",
              "      <td>86.0</td>\n",
              "      <td>92</td>\n",
              "      <td>92</td>\n",
              "      <td>4</td>\n",
              "      <td>77</td>\n",
              "      <td>94</td>\n",
              "      <td>...</td>\n",
              "      <td>58.0</td>\n",
              "      <td>64.0</td>\n",
              "      <td>68.0</td>\n",
              "      <td>88.0</td>\n",
              "      <td>88.0</td>\n",
              "      <td>87.0</td>\n",
              "      <td>80.0</td>\n",
              "      <td>65.0</td>\n",
              "      <td>58.0</td>\n",
              "      <td>NaN</td>\n",
              "    </tr>\n",
              "    <tr>\n",
              "      <th>4</th>\n",
              "      <td>Manuel Neuer</td>\n",
              "      <td>0</td>\n",
              "      <td>31</td>\n",
              "      <td>193.0</td>\n",
              "      <td>92.0</td>\n",
              "      <td>92</td>\n",
              "      <td>92</td>\n",
              "      <td>4</td>\n",
              "      <td>15</td>\n",
              "      <td>13</td>\n",
              "      <td>...</td>\n",
              "      <td>NaN</td>\n",
              "      <td>NaN</td>\n",
              "      <td>NaN</td>\n",
              "      <td>NaN</td>\n",
              "      <td>NaN</td>\n",
              "      <td>NaN</td>\n",
              "      <td>NaN</td>\n",
              "      <td>NaN</td>\n",
              "      <td>NaN</td>\n",
              "      <td>92.0</td>\n",
              "    </tr>\n",
              "  </tbody>\n",
              "</table>\n",
              "<p>5 rows × 68 columns</p>\n",
              "</div>"
            ],
            "text/plain": [
              "                      full_name  prefered_foot_left  age  height_cm  \\\n",
              "0  C. Ronaldo dos Santos Aveiro                   0   32      185.0   \n",
              "1                  Lionel Messi                   1   30      170.0   \n",
              "2    Neymar da Silva Santos Jr.                   0   25      175.0   \n",
              "3                   Luis Suárez                   0   30      182.0   \n",
              "4                  Manuel Neuer                   0   31      193.0   \n",
              "\n",
              "   weight_kg  overall  potential  weak_foot  crossing  finishing  ...     cb  \\\n",
              "0       80.0       94         94          4        85         94  ...   53.0   \n",
              "1       72.0       93         93          4        77         95  ...   45.0   \n",
              "2       68.0       92         94          5        75         89  ...   46.0   \n",
              "3       86.0       92         92          4        77         94  ...   58.0   \n",
              "4       92.0       92         92          4        15         13  ...    NaN   \n",
              "\n",
              "     lb   lwb    ls    lf   lam   lcm   ldm   lcb    gk  \n",
              "0  61.0  66.0  92.0  91.0  89.0  82.0  62.0  53.0   NaN  \n",
              "1  57.0  62.0  88.0  92.0  92.0  84.0  59.0  45.0   NaN  \n",
              "2  59.0  64.0  84.0  88.0  88.0  79.0  59.0  46.0   NaN  \n",
              "3  64.0  68.0  88.0  88.0  87.0  80.0  65.0  58.0   NaN  \n",
              "4   NaN   NaN   NaN   NaN   NaN   NaN   NaN   NaN  92.0  \n",
              "\n",
              "[5 rows x 68 columns]"
            ]
          },
          "metadata": {
            "tags": []
          },
          "execution_count": 290
        }
      ]
    },
    {
      "metadata": {
        "id": "cAb-cfOdvW7G",
        "colab_type": "text"
      },
      "cell_type": "markdown",
      "source": [
        "## Comparación de prueba paso 4"
      ]
    },
    {
      "metadata": {
        "id": "7H0aj-BRWrg0",
        "colab_type": "code",
        "colab": {
          "base_uri": "https://localhost:8080/",
          "height": 36
        },
        "outputId": "4e635895-73c2-413e-d574-0d7bd47470c5"
      },
      "cell_type": "code",
      "source": [
        "jugador1 = comparison_data.loc[comparison_data['full_name'].isin(['Neymar da Silva Santos Jr.'])]\n",
        "jugador2 = comparison_data.loc[comparison_data['full_name'].isin(['Lionel Messi'])]\n",
        "print(jugador1.full_name[0],\" VS \",jugador2.full_name[0])\n",
        "jugador1 = jugador1.drop('full_name',axis=1)\n",
        "jugador2 = jugador2.drop('full_name',axis=1)"
      ],
      "execution_count": 296,
      "outputs": [
        {
          "output_type": "stream",
          "text": [
            "Neymar da Silva Santos Jr.  VS  Lionel Messi\n"
          ],
          "name": "stdout"
        }
      ]
    },
    {
      "metadata": {
        "id": "SW3v8p7FvnsU",
        "colab_type": "text"
      },
      "cell_type": "markdown",
      "source": [
        "### Score Comparación de Similitud"
      ]
    },
    {
      "metadata": {
        "id": "vNz2UAAuiMcV",
        "colab_type": "code",
        "colab": {
          "base_uri": "https://localhost:8080/",
          "height": 36
        },
        "outputId": "c955bce7-683a-4acf-ac76-c02e5dfa1d23"
      },
      "cell_type": "code",
      "source": [
        "diff = []\n",
        "for i in range(len(jugador1.values[0])):\n",
        "  if (abs(jugador1.values[0][i] - jugador2.values[0][i])) < 3:\n",
        "    diff.append(1)\n",
        "  else:\n",
        "    diff.append(0)\n",
        "print(diff)"
      ],
      "execution_count": 299,
      "outputs": [
        {
          "output_type": "stream",
          "text": [
            "[1, 0, 0, 0, 1, 1, 1, 1, 0, 0, 0, 1, 1, 0, 0, 0, 1, 1, 0, 0, 0, 0, 0, 0, 0, 0, 0, 0, 0, 0, 0, 0, 0, 0, 0, 0, 1, 1, 1, 0, 0, 1, 0, 0, 0, 0, 1, 1, 1, 1, 0, 1, 0, 0, 0, 0, 1, 1, 1, 1, 0, 0, 0, 0, 1, 1, 0]\n"
          ],
          "name": "stdout"
        }
      ]
    },
    {
      "metadata": {
        "id": "jmgkyqwpnfqO",
        "colab_type": "code",
        "colab": {
          "base_uri": "https://localhost:8080/",
          "height": 36
        },
        "outputId": "506a1b50-5d0c-44d9-a7bd-006ca3f0d691"
      },
      "cell_type": "code",
      "source": [
        "suma = 0\n",
        "for el in diff:\n",
        "  suma += el\n",
        "  \n",
        "  \n",
        "suma"
      ],
      "execution_count": 300,
      "outputs": [
        {
          "output_type": "execute_result",
          "data": {
            "text/plain": [
              "24"
            ]
          },
          "metadata": {
            "tags": []
          },
          "execution_count": 300
        }
      ]
    },
    {
      "metadata": {
        "id": "lOdKMoDbvxcd",
        "colab_type": "text"
      },
      "cell_type": "markdown",
      "source": [
        "## Busqueda de posiciones importantes"
      ]
    },
    {
      "metadata": {
        "id": "0Q8MmtN1owYl",
        "colab_type": "code",
        "colab": {
          "base_uri": "https://localhost:8080/",
          "height": 243
        },
        "outputId": "0796385b-766d-4835-e3b7-1cbe03ca5316"
      },
      "cell_type": "code",
      "source": [
        "jugador1.columns"
      ],
      "execution_count": 301,
      "outputs": [
        {
          "output_type": "execute_result",
          "data": {
            "text/plain": [
              "Index(['prefered_foot_left', 'age', 'height_cm', 'weight_kg', 'overall',\n",
              "       'potential', 'weak_foot', 'crossing', 'finishing', 'heading_accuracy',\n",
              "       'short_passing', 'volleys', 'dribbling', 'curve', 'free_kick_accuracy',\n",
              "       'long_passing', 'ball_control', 'acceleration', 'sprint_speed',\n",
              "       'agility', 'reactions', 'balance', 'shot_power', 'jumping', 'stamina',\n",
              "       'strength', 'long_shots', 'aggression', 'interceptions', 'positioning',\n",
              "       'vision', 'penalties', 'marking', 'standing_tackle', 'sliding_tackle',\n",
              "       'gk_diving', 'gk_handling', 'gk_kicking', 'gk_positioning',\n",
              "       'gk_reflexes', 'rs', 'rw', 'rf', 'ram', 'rcm', 'rm', 'rdm', 'rcb', 'rb',\n",
              "       'rwb', 'st', 'lw', 'cf', 'cam', 'cm', 'lm', 'cdm', 'cb', 'lb', 'lwb',\n",
              "       'ls', 'lf', 'lam', 'lcm', 'ldm', 'lcb', 'gk'],\n",
              "      dtype='object')"
            ]
          },
          "metadata": {
            "tags": []
          },
          "execution_count": 301
        }
      ]
    },
    {
      "metadata": {
        "id": "MBX4Lh3LyLu-",
        "colab_type": "code",
        "colab": {
          "base_uri": "https://localhost:8080/",
          "height": 36
        },
        "outputId": "a621164c-d18b-4054-93d1-31d2b344f43e"
      },
      "cell_type": "code",
      "source": [
        "\n",
        "jugador_pos = jugador1[['rs', 'rw', 'rf', 'ram', 'rcm', 'rm', 'rdm', 'rcb', 'rb',\n",
        "       'rwb', 'st', 'lw', 'cf', 'cam', 'cm', 'lm', 'cdm', 'cb', 'lb', 'lwb',\n",
        "       'ls', 'lf', 'lam', 'lcm', 'ldm', 'lcb', 'gk']]\n",
        "\n",
        "type(jugador_pos)"
      ],
      "execution_count": 321,
      "outputs": [
        {
          "output_type": "execute_result",
          "data": {
            "text/plain": [
              "pandas.core.frame.DataFrame"
            ]
          },
          "metadata": {
            "tags": []
          },
          "execution_count": 321
        }
      ]
    },
    {
      "metadata": {
        "id": "is5m-YcO6rys",
        "colab_type": "code",
        "colab": {
          "base_uri": "https://localhost:8080/",
          "height": 36
        },
        "outputId": "83bc981d-cfda-4159-d906-22c99fb8b8ce"
      },
      "cell_type": "code",
      "source": [
        "\n",
        "features_target = []\n",
        "for i in range(3):\n",
        "  features_target.append(jugador_pos.idxmax(axis = 1)[0])\n",
        "  jugador_pos = jugador_pos.drop(features_target[i], axis=1)\n",
        "  \n",
        "print(\"3 mejores posiciones: \",features_target)\n",
        "#Si se ejecuta varias veces cambia de resultado por que se eliminan los 3 mejores y se reemplazan por los siguientes 3 mejores"
      ],
      "execution_count": 322,
      "outputs": [
        {
          "output_type": "stream",
          "text": [
            "3 mejores posiciones:  ['rw', 'lw', 'rf']\n"
          ],
          "name": "stdout"
        }
      ]
    },
    {
      "metadata": {
        "id": "I7V76gDS1Eu7",
        "colab_type": "text"
      },
      "cell_type": "markdown",
      "source": [
        "### busqueda de coincidencia en posiciones destacadas de los demas jugadores"
      ]
    },
    {
      "metadata": {
        "id": "9aztPeDw0POA",
        "colab_type": "code",
        "colab": {
          "base_uri": "https://localhost:8080/",
          "height": 36
        },
        "outputId": "1eb04783-416b-4de4-d370-1cad0889d371"
      },
      "cell_type": "code",
      "source": [
        "jugadores_pos = comparison_data[['rs', 'rw', 'rf', 'ram', 'rcm', 'rm', 'rdm', 'rcb', 'rb',\n",
        "       'rwb', 'st', 'lw', 'cf', 'cam', 'cm', 'lm', 'cdm', 'cb', 'lb', 'lwb',\n",
        "       'ls', 'lf', 'lam', 'lcm', 'ldm', 'lcb', 'gk']]\n",
        "type(jugadores_pos.head())"
      ],
      "execution_count": 336,
      "outputs": [
        {
          "output_type": "execute_result",
          "data": {
            "text/plain": [
              "pandas.core.frame.DataFrame"
            ]
          },
          "metadata": {
            "tags": []
          },
          "execution_count": 336
        }
      ]
    },
    {
      "metadata": {
        "id": "-fLYwt7C39IM",
        "colab_type": "code",
        "colab": {
          "base_uri": "https://localhost:8080/",
          "height": 110
        },
        "outputId": "46e7a656-3ceb-4552-f022-14ce019f3046"
      },
      "cell_type": "code",
      "source": [
        "jugador_pos_base = jugador2[['rs', 'rw', 'rf', 'ram', 'rcm', 'rm', 'rdm', 'rcb', 'rb',\n",
        "       'rwb', 'st', 'lw', 'cf', 'cam', 'cm', 'lm', 'cdm', 'cb', 'lb', 'lwb',\n",
        "       'ls', 'lf', 'lam', 'lcm', 'ldm', 'lcb', 'gk']]\n",
        "\n",
        "jugador_pos_1 = jugador2[['rs', 'rw', 'rf', 'ram', 'rcm', 'rm', 'rdm', 'rcb', 'rb',\n",
        "       'rwb', 'st', 'lw', 'cf', 'cam', 'cm', 'lm', 'cdm', 'cb', 'lb', 'lwb',\n",
        "       'ls', 'lf', 'lam', 'lcm', 'ldm', 'lcb', 'gk']]\n",
        "jugador_pos.head()"
      ],
      "execution_count": 337,
      "outputs": [
        {
          "output_type": "execute_result",
          "data": {
            "text/html": [
              "<div>\n",
              "<style scoped>\n",
              "    .dataframe tbody tr th:only-of-type {\n",
              "        vertical-align: middle;\n",
              "    }\n",
              "\n",
              "    .dataframe tbody tr th {\n",
              "        vertical-align: top;\n",
              "    }\n",
              "\n",
              "    .dataframe thead th {\n",
              "        text-align: right;\n",
              "    }\n",
              "</style>\n",
              "<table border=\"1\" class=\"dataframe\">\n",
              "  <thead>\n",
              "    <tr style=\"text-align: right;\">\n",
              "      <th></th>\n",
              "      <th>rs</th>\n",
              "      <th>ram</th>\n",
              "      <th>rcm</th>\n",
              "      <th>rm</th>\n",
              "      <th>rdm</th>\n",
              "      <th>rcb</th>\n",
              "      <th>rb</th>\n",
              "      <th>rwb</th>\n",
              "      <th>st</th>\n",
              "      <th>cf</th>\n",
              "      <th>...</th>\n",
              "      <th>cb</th>\n",
              "      <th>lb</th>\n",
              "      <th>lwb</th>\n",
              "      <th>ls</th>\n",
              "      <th>lf</th>\n",
              "      <th>lam</th>\n",
              "      <th>lcm</th>\n",
              "      <th>ldm</th>\n",
              "      <th>lcb</th>\n",
              "      <th>gk</th>\n",
              "    </tr>\n",
              "  </thead>\n",
              "  <tbody>\n",
              "    <tr>\n",
              "      <th>2</th>\n",
              "      <td>84.0</td>\n",
              "      <td>88.0</td>\n",
              "      <td>79.0</td>\n",
              "      <td>87.0</td>\n",
              "      <td>59.0</td>\n",
              "      <td>46.0</td>\n",
              "      <td>59.0</td>\n",
              "      <td>64.0</td>\n",
              "      <td>84.0</td>\n",
              "      <td>88.0</td>\n",
              "      <td>...</td>\n",
              "      <td>46.0</td>\n",
              "      <td>59.0</td>\n",
              "      <td>64.0</td>\n",
              "      <td>84.0</td>\n",
              "      <td>88.0</td>\n",
              "      <td>88.0</td>\n",
              "      <td>79.0</td>\n",
              "      <td>59.0</td>\n",
              "      <td>46.0</td>\n",
              "      <td>NaN</td>\n",
              "    </tr>\n",
              "  </tbody>\n",
              "</table>\n",
              "<p>1 rows × 24 columns</p>\n",
              "</div>"
            ],
            "text/plain": [
              "     rs   ram   rcm    rm   rdm   rcb    rb   rwb    st    cf ...    cb    lb  \\\n",
              "2  84.0  88.0  79.0  87.0  59.0  46.0  59.0  64.0  84.0  88.0 ...  46.0  59.0   \n",
              "\n",
              "    lwb    ls    lf   lam   lcm   ldm   lcb  gk  \n",
              "2  64.0  84.0  88.0  88.0  79.0  59.0  46.0 NaN  \n",
              "\n",
              "[1 rows x 24 columns]"
            ]
          },
          "metadata": {
            "tags": []
          },
          "execution_count": 337
        }
      ]
    },
    {
      "metadata": {
        "id": "UoaLDtNB0-8N",
        "colab_type": "code",
        "colab": {
          "base_uri": "https://localhost:8080/",
          "height": 36
        },
        "outputId": "2cd030e9-e9eb-462f-9714-eab21d228c2d"
      },
      "cell_type": "code",
      "source": [
        "#Mejores 4 posiciones\n",
        "features_find = []\n",
        "for i in range(4):\n",
        "  features_find.append(jugador_pos_1.idxmax(axis = 1)[0])\n",
        "  jugador_pos_1 = jugador_pos_1.drop(features_find[i], axis=1)\n",
        "\n",
        "print(\"3 mejores posiciones: \",features_find) "
      ],
      "execution_count": 338,
      "outputs": [
        {
          "output_type": "stream",
          "text": [
            "3 mejores posiciones:  ['rf', 'ram', 'cf', 'cam']\n"
          ],
          "name": "stdout"
        }
      ]
    },
    {
      "metadata": {
        "id": "S2U_aCW2_icG",
        "colab_type": "code",
        "colab": {
          "base_uri": "https://localhost:8080/",
          "height": 110
        },
        "outputId": "2bce860b-1066-4003-c1d9-8d02b94c6eb1"
      },
      "cell_type": "code",
      "source": [
        "jugador_3 = jugadores_pos[17993:17994]\n",
        "jugador_3"
      ],
      "execution_count": 340,
      "outputs": [
        {
          "output_type": "execute_result",
          "data": {
            "text/html": [
              "<div>\n",
              "<style scoped>\n",
              "    .dataframe tbody tr th:only-of-type {\n",
              "        vertical-align: middle;\n",
              "    }\n",
              "\n",
              "    .dataframe tbody tr th {\n",
              "        vertical-align: top;\n",
              "    }\n",
              "\n",
              "    .dataframe thead th {\n",
              "        text-align: right;\n",
              "    }\n",
              "</style>\n",
              "<table border=\"1\" class=\"dataframe\">\n",
              "  <thead>\n",
              "    <tr style=\"text-align: right;\">\n",
              "      <th></th>\n",
              "      <th>rs</th>\n",
              "      <th>rw</th>\n",
              "      <th>rf</th>\n",
              "      <th>ram</th>\n",
              "      <th>rcm</th>\n",
              "      <th>rm</th>\n",
              "      <th>rdm</th>\n",
              "      <th>rcb</th>\n",
              "      <th>rb</th>\n",
              "      <th>rwb</th>\n",
              "      <th>...</th>\n",
              "      <th>cb</th>\n",
              "      <th>lb</th>\n",
              "      <th>lwb</th>\n",
              "      <th>ls</th>\n",
              "      <th>lf</th>\n",
              "      <th>lam</th>\n",
              "      <th>lcm</th>\n",
              "      <th>ldm</th>\n",
              "      <th>lcb</th>\n",
              "      <th>gk</th>\n",
              "    </tr>\n",
              "  </thead>\n",
              "  <tbody>\n",
              "    <tr>\n",
              "      <th>17993</th>\n",
              "      <td>31.0</td>\n",
              "      <td>29.0</td>\n",
              "      <td>29.0</td>\n",
              "      <td>29.0</td>\n",
              "      <td>30.0</td>\n",
              "      <td>30.0</td>\n",
              "      <td>38.0</td>\n",
              "      <td>45.0</td>\n",
              "      <td>40.0</td>\n",
              "      <td>38.0</td>\n",
              "      <td>...</td>\n",
              "      <td>45.0</td>\n",
              "      <td>40.0</td>\n",
              "      <td>38.0</td>\n",
              "      <td>31.0</td>\n",
              "      <td>29.0</td>\n",
              "      <td>29.0</td>\n",
              "      <td>30.0</td>\n",
              "      <td>38.0</td>\n",
              "      <td>45.0</td>\n",
              "      <td>NaN</td>\n",
              "    </tr>\n",
              "  </tbody>\n",
              "</table>\n",
              "<p>1 rows × 27 columns</p>\n",
              "</div>"
            ],
            "text/plain": [
              "         rs    rw    rf   ram   rcm    rm   rdm   rcb    rb   rwb ...    cb  \\\n",
              "17993  31.0  29.0  29.0  29.0  30.0  30.0  38.0  45.0  40.0  38.0 ...  45.0   \n",
              "\n",
              "         lb   lwb    ls    lf   lam   lcm   ldm   lcb  gk  \n",
              "17993  40.0  38.0  31.0  29.0  29.0  30.0  38.0  45.0 NaN  \n",
              "\n",
              "[1 rows x 27 columns]"
            ]
          },
          "metadata": {
            "tags": []
          },
          "execution_count": 340
        }
      ]
    },
    {
      "metadata": {
        "id": "CILlEm3eA1FU",
        "colab_type": "code",
        "colab": {
          "base_uri": "https://localhost:8080/",
          "height": 36
        },
        "outputId": "39c18791-1020-4c91-940d-1a2a2e28f55a"
      },
      "cell_type": "code",
      "source": [
        "jugador_3.idxmax(axis = 1)[0]\n"
      ],
      "execution_count": 341,
      "outputs": [
        {
          "output_type": "execute_result",
          "data": {
            "text/plain": [
              "'rcb'"
            ]
          },
          "metadata": {
            "tags": []
          },
          "execution_count": 341
        }
      ]
    },
    {
      "metadata": {
        "id": "LzJo7CRQA2d8",
        "colab_type": "code",
        "colab": {
          "base_uri": "https://localhost:8080/",
          "height": 36
        },
        "outputId": "bd6caa92-7ce7-4f50-df72-52b9c4b1ef7f"
      },
      "cell_type": "code",
      "source": [
        "jugadores_pos.shape[0]"
      ],
      "execution_count": 342,
      "outputs": [
        {
          "output_type": "execute_result",
          "data": {
            "text/plain": [
              "17994"
            ]
          },
          "metadata": {
            "tags": []
          },
          "execution_count": 342
        }
      ]
    },
    {
      "metadata": {
        "id": "Yepp7yASExIa",
        "colab_type": "text"
      },
      "cell_type": "markdown",
      "source": [
        "### Revisión de mejores posiciones para cada jugador"
      ]
    },
    {
      "metadata": {
        "id": "k8DId5HuB1Jl",
        "colab_type": "code",
        "colab": {}
      },
      "cell_type": "code",
      "source": [
        "feature_try = ['rs', 'rf', 'st', 'cf', 'ls', 'lf', 'rw', 'ram', 'lw', 'cam']\n",
        "score = []\n",
        "similares = {}\n",
        "for i in range(jugadores_pos.shape[0]):\n",
        "  features_find_all = []\n",
        "  jugador_comparison = jugadores_pos[i:i+1] #Hmmmm\n",
        "  jugador_i = jugadores_pos[i:i+1]\n",
        "  for j in range(4):\n",
        "    if pd.isnull(jugador_i.idxmax(axis = 1)[0]):\n",
        "      break\n",
        "    features_find_all.append(jugador_i.idxmax(axis = 1)[0])\n",
        "    jugador_i = jugador_i.drop(features_find_all[j], axis=1)\n",
        "  \"\"\"Que tenga las mismas caracteristicas\"\"\"\n",
        "  if (len(np.setdiff1d(features_find,features_find_all)) <= 2):\n",
        "    suma = 0\n",
        "    similares.update({comparison_data[i:i+1]['full_name'][0]:suma})\n",
        "    \n",
        "    diff = []\n",
        "    for k in range(len(jugador_pos_base.values[0])):\n",
        "  \n",
        "      if (abs(jugador_comparison.values[0][k] - jugador_pos_base.values[0][k])) < 3:\n",
        "        diff.append(1)\n",
        "      else:\n",
        "        diff.append(0)\n",
        "        \n",
        "    \n",
        "    for el in diff:\n",
        "      suma += el\n",
        "    score.append(suma)\n",
        "    \n",
        "    similares[comparison_data[i:i+1]['full_name'][0]]=suma\n",
        "    "
      ],
      "execution_count": 0,
      "outputs": []
    },
    {
      "metadata": {
        "id": "xmA5zSCYBOy4",
        "colab_type": "code",
        "colab": {}
      },
      "cell_type": "code",
      "source": [
        "#similares"
      ],
      "execution_count": 0,
      "outputs": []
    },
    {
      "metadata": {
        "id": "X-6sD3cjCkK5",
        "colab_type": "code",
        "colab": {
          "base_uri": "https://localhost:8080/",
          "height": 36
        },
        "outputId": "988f7133-281c-403e-f29a-ebd99414b8b8"
      },
      "cell_type": "code",
      "source": [
        "len(score)"
      ],
      "execution_count": 344,
      "outputs": [
        {
          "output_type": "execute_result",
          "data": {
            "text/plain": [
              "2712"
            ]
          },
          "metadata": {
            "tags": []
          },
          "execution_count": 344
        }
      ]
    },
    {
      "metadata": {
        "id": "IMVSxLeUHXMO",
        "colab_type": "code",
        "colab": {}
      },
      "cell_type": "code",
      "source": [
        "import operator\n",
        "sorted_x = sorted(similares.items(), key=operator.itemgetter(1))"
      ],
      "execution_count": 0,
      "outputs": []
    },
    {
      "metadata": {
        "id": "DEShUEEPQseN",
        "colab_type": "code",
        "colab": {}
      },
      "cell_type": "code",
      "source": [
        "sorted_x.reverse()"
      ],
      "execution_count": 0,
      "outputs": []
    },
    {
      "metadata": {
        "id": "K7G_pJ1nqod2",
        "colab_type": "code",
        "colab": {
          "base_uri": "https://localhost:8080/",
          "height": 18903
        },
        "outputId": "59af7b7a-9b81-4c63-d4b7-af44f466045a"
      },
      "cell_type": "code",
      "source": [
        "sorted_x"
      ],
      "execution_count": 373,
      "outputs": [
        {
          "output_type": "execute_result",
          "data": {
            "text/plain": [
              "[('Lionel Messi', 26),\n",
              " ('Neymar da Silva Santos Jr.', 12),\n",
              " ('Juan Pablo Añor', 10),\n",
              " ('Carles Gil Pareja', 10),\n",
              " ('Max Meyer', 10),\n",
              " ('Domenico Berardi', 10),\n",
              " ('Yacine Brahimi', 10),\n",
              " ('Douglas Costa de Souza', 10),\n",
              " ('Federico Bernardeschi', 10),\n",
              " ('Shinji Kagawa', 10),\n",
              " ('Ousmane Dembélé', 10),\n",
              " ('Juan Manuel Mata García', 10),\n",
              " ('Arjen Robben', 10),\n",
              " ('Eden Hazard', 10),\n",
              " ('Gaston Brugman', 8),\n",
              " ('António José Pinheiro Carvalho', 8),\n",
              " ('Giakumis Gutierrez', 8),\n",
              " ('Carlos Villanueva', 8),\n",
              " ('Danilo Manuel Aldair Rochela', 8),\n",
              " ('Wes Hoolahan', 8),\n",
              " ('Riccardo Saponara', 8),\n",
              " ('Aaron McEneff', 7),\n",
              " ('Tristan Nydam', 7),\n",
              " ('Waleed Hezam Al Anazi', 7),\n",
              " ('Okan Kurt', 7),\n",
              " ('Alikhan Shavaev', 7),\n",
              " ('John Russell', 7),\n",
              " ('Gonzalo Lanfuente', 7),\n",
              " ('Woo Hyeok Lee', 7),\n",
              " ('Richard Neudecker', 7),\n",
              " ('Felipe Melvin Soldivia Costa', 7),\n",
              " ('Seung Bum Oh', 7),\n",
              " ('Mattia Vitale', 7),\n",
              " ('Stephen Mallan', 7),\n",
              " ('Willi Evseev', 7),\n",
              " ('Amin Affane', 7),\n",
              " ('Florent Cuvelier', 7),\n",
              " ('Jackson Yueill', 7),\n",
              " ('Alberto Picchi', 7),\n",
              " ('Gianluca Nijholt', 7),\n",
              " ('Manuel Perez', 7),\n",
              " ('Àlex Carbonell Vallés', 7),\n",
              " ('Kasper Risgård', 7),\n",
              " ('Lukas Van Eenoo', 7),\n",
              " ('Fredrik Ulvestad', 7),\n",
              " ('Marcus Piossek', 7),\n",
              " ('David Babunski', 7),\n",
              " ('Marcelo Carrusca', 7),\n",
              " ('George Moncur', 7),\n",
              " ('Jimmy Roye', 7),\n",
              " ('Kolja Pusch', 7),\n",
              " ('Ryohei Shirasaki', 7),\n",
              " ('Florent Mollet', 7),\n",
              " ('Raffaele Maiello', 7),\n",
              " ('Gjermund Åsen', 7),\n",
              " ('Vladlen Yurchenko', 7),\n",
              " ('Yoann Court', 7),\n",
              " ('Luciano Slagveer', 7),\n",
              " ('Jonathan Osorio', 7),\n",
              " ('Themba Zwane', 7),\n",
              " ('Roman Buess', 7),\n",
              " ('Samuel Delgado Serna', 7),\n",
              " ('Aymen Barkok', 7),\n",
              " ('Jonathan Estrada', 7),\n",
              " ('Ioan Adrian Hora', 7),\n",
              " ('Ahmed Mohammed Al Fraidi', 7),\n",
              " ('Simon Thern', 7),\n",
              " ('Joan Angel Román Ollè', 7),\n",
              " ('Miguel Olavide Montes', 7),\n",
              " ('Erik Bakker', 7),\n",
              " ('Hanchao Yu', 7),\n",
              " ('Chris Lines', 7),\n",
              " ('Jayson Malhue', 7),\n",
              " ('Jonathan Prazeres Conradi', 7),\n",
              " ('Cristóbal Jorquera', 7),\n",
              " ('Stefan Ishizaki', 7),\n",
              " ('Mustafa Saymak', 7),\n",
              " ('Nauzet Alemán Viera', 7),\n",
              " ('Allano Brendon de Souza Lima', 7),\n",
              " ('Gevorg Ghazaryan', 7),\n",
              " ('Josep Señé Escudero', 7),\n",
              " ('Óscar Melendo Jiménez', 7),\n",
              " ('Paul Gallagher', 7),\n",
              " ('Pablo Escobar', 7),\n",
              " ('Magnus Wolff Eikrem', 7),\n",
              " ('Marc Mateu Sanjuán', 7),\n",
              " ('José Ángel Pozo la Rosa', 7),\n",
              " ('Emmanuel Bourgaud', 7),\n",
              " ('Engin Bekdemir', 7),\n",
              " ('Bernard Mensah', 7),\n",
              " ('Barry Bannan', 7),\n",
              " ('Jiloan Hamad', 7),\n",
              " ('Hernán Fredes', 7),\n",
              " ('Thomas Buffel', 7),\n",
              " ('Radosław Majewski', 7),\n",
              " ('Panagiotis Kone', 7),\n",
              " ('Kasper Hämäläinen', 7),\n",
              " ('Pål André Helland', 7),\n",
              " ('Roberto Ibáñez Castro', 7),\n",
              " ('Robin Lod', 7),\n",
              " ('Viktor Claesson', 7),\n",
              " ('Carlos Carmona Bonet', 7),\n",
              " ('Janik Haberer', 7),\n",
              " ('Thomas Touré', 7),\n",
              " ('Stefan Aigner', 7),\n",
              " ('Callum McGregor', 7),\n",
              " ('Romain Philippoteaux', 7),\n",
              " ('Carlos Carbonero', 7),\n",
              " ('Daniel Bessa', 7),\n",
              " ('Kevin Molino', 7),\n",
              " ('Ki Hun Yeom', 7),\n",
              " ('Darío Lezcano', 7),\n",
              " ('Gökdeniz Karadeniz', 7),\n",
              " ('Giovani Lo Celso', 7),\n",
              " ('Amath Ndiaye Diedhiou', 7),\n",
              " ('Gonçalo Manuel Ganchinho Guedes', 7),\n",
              " ('Diego Rigonato Rodrigues', 7),\n",
              " ('Miguel Jesus Rosa', 7),\n",
              " ('Christian Clemens', 7),\n",
              " ('Víctor Rodríguez Romero', 7),\n",
              " ('Emre Akbaba', 7),\n",
              " ('Aiden McGeady', 7),\n",
              " ('Hans Vanaken', 7),\n",
              " ('Nathan Dyer', 7),\n",
              " ('Jano Ananidze', 7),\n",
              " ('Alireza Jahanbakhsh', 7),\n",
              " ('Francisco Geraldes', 7),\n",
              " ('José Márcio da Costa', 7),\n",
              " ('Aaron Hunt', 7),\n",
              " ('Paolo Hurtado', 7),\n",
              " ('Edgardo Codesto', 7),\n",
              " ('Sam Larsson', 7),\n",
              " ('Marcus Coco', 7),\n",
              " ('Lee Nguyen', 7),\n",
              " ('Yassine Benzia', 7),\n",
              " ('Admir Mehmedi', 7),\n",
              " ('Ronaldo Jailson Cabrais Petri', 7),\n",
              " ('Filip Krovinović', 7),\n",
              " ('Diego Castro Giménez', 7),\n",
              " ('Marko Rog', 7),\n",
              " ('Otávio Edmilson da Silva Monteiro', 7),\n",
              " ('Victor Vinícius Coelho dos Santos', 7),\n",
              " ('Vincenzo Grifo', 7),\n",
              " ('Nicolas De Préville', 7),\n",
              " ('Bryan Ruíz', 7),\n",
              " ('Dorlan Pabón', 7),\n",
              " ('Mehdi Carcela-González', 7),\n",
              " ('Pablo De Blasis', 7),\n",
              " ('Gastón Ramírez', 7),\n",
              " ('Valentin Eysseric', 7),\n",
              " ('Rafael A. Ferreira Silva', 7),\n",
              " ('Joaquín Sánchez Rodríguez', 7),\n",
              " ('Diego Valeri', 7),\n",
              " ('Marco Fabián', 7),\n",
              " ('Iker Muniain Goñi', 7),\n",
              " ('Adem Ljajić', 7),\n",
              " ('Nicola Sansone', 7),\n",
              " ('Bertrand Traoré', 7),\n",
              " ('Hakan Çalhanoğlu', 7),\n",
              " ('Mikel Oyarzabal Ugarte', 7),\n",
              " ('Lukas Podolski', 7),\n",
              " ('Danny Welbeck', 7),\n",
              " ('Dušan Tadić', 7),\n",
              " ('Josip Iličić', 7),\n",
              " ('Jesús Corona', 7),\n",
              " ('Wissam Ben Yedder', 7),\n",
              " ('Kévin Gameiro', 7),\n",
              " ('Karim Bellarabi', 7),\n",
              " ('Florian Thauvin', 7),\n",
              " ('Quincy Promes', 7),\n",
              " ('Nabil Fekir', 7),\n",
              " ('Wesley Sneijder', 7),\n",
              " ('Julian Draxler', 7),\n",
              " ('Alexandre Lacazette', 7),\n",
              " ('Franck Ribéry', 7),\n",
              " ('Paulo Dybala', 7),\n",
              " ('Martin Hostados', 6),\n",
              " ('Darío Bottinelli', 6),\n",
              " ('Thomas Matton', 6),\n",
              " ('Martin Victor Cordeia Damasco', 6),\n",
              " ('Leandro Romagnoli', 6),\n",
              " ('Evaristo Merraño', 6),\n",
              " ('Allan Norberto Bardini Paneira', 6),\n",
              " ('Macnelly Torres', 6),\n",
              " ('Dries Mertens', 6),\n",
              " ('Sergio Agüero', 6),\n",
              " ('Nicky Souren', 5),\n",
              " ('Albert Sharipov', 5),\n",
              " ('Romain Perraud', 5),\n",
              " ('Ryan Brennan', 5),\n",
              " ('Christie Elliott', 5),\n",
              " ('Quentin Bena', 5),\n",
              " ('Carlos Rosel', 5),\n",
              " ('Lucio Compagnucci', 5),\n",
              " ('Djordje Mihailovic', 5),\n",
              " ('Idrissa Touré', 5),\n",
              " ('Kundai Benyu', 5),\n",
              " ('Maxim Palienko', 5),\n",
              " ('Rayan Souici', 5),\n",
              " ('Connor Dimaio', 5),\n",
              " ('Qazim Laçi', 5),\n",
              " ('Nicky Low', 5),\n",
              " ('Luke Summerfield', 5),\n",
              " ('Jordan Flores', 5),\n",
              " ('Alessandro Bordin', 5),\n",
              " ('Jens Jakob Thomasen', 5),\n",
              " ('Jordan Allen', 5),\n",
              " ('Joël Geissmann', 5),\n",
              " ('Víctor López Ibañez', 5),\n",
              " ('Amara Condé', 5),\n",
              " ('Marc Pelosi', 5),\n",
              " ('Kelvin Etuhu', 5),\n",
              " ('Shigeru Yokotani', 5),\n",
              " ('Fernando Beltrán', 5),\n",
              " ('Víctor Moya Martínez', 5),\n",
              " ('Kearyn Baccus', 5),\n",
              " ('Hasan Ali Adıgüzel', 5),\n",
              " ('Julio Gracia Gallardo', 5),\n",
              " ('Brad Walker', 5),\n",
              " ('Niclas Erlbeck', 5),\n",
              " ('Ariajasuru Hasegawa', 5),\n",
              " ('Sami Al Najai', 5),\n",
              " ('Ali Hassan Al Asmari', 5),\n",
              " ('Lasse Petry', 5),\n",
              " ('Louis Béland-Goyette', 5),\n",
              " ('Cazim Suljic', 5),\n",
              " ('Ryan Harley', 5),\n",
              " ('Josh Sheehan', 5),\n",
              " ('Tim Gorschlüter', 5),\n",
              " ('Joe Aribo', 5),\n",
              " ('Amin Askar', 5),\n",
              " ('Ernest Agyiri', 5),\n",
              " ('Amadou Haidara', 5),\n",
              " ('Maodo Malick Mbaye', 5),\n",
              " ('Hayao Kawabe', 5),\n",
              " ('El-Hadji Ba', 5),\n",
              " ('John-Patrick Strauß', 5),\n",
              " ('André Manuel Nogueira Sousa', 5),\n",
              " ('Fridolin Wagner', 5),\n",
              " ('Greg Docherty', 5),\n",
              " ('Jordan Sinnott', 5),\n",
              " ('Roli Pereira de Sa', 5),\n",
              " ('Ryan Connolly', 5),\n",
              " ('Håvard Storbæk', 5),\n",
              " ('Thomas Kortegaard', 5),\n",
              " (\"John-Joe O'Toole\", 5),\n",
              " ('Josh Wright', 5),\n",
              " (\"Youssouf M'Changama\", 5),\n",
              " ('Dylan McGeouch', 5),\n",
              " ('Kantemir Berkhamov', 5),\n",
              " ('Martin Mimoun', 5),\n",
              " ('Martin Ovenstad', 5),\n",
              " ('Deroy Duarte', 5),\n",
              " ('Mehdi Bourabia', 5),\n",
              " ('Murat Yıldırım', 5),\n",
              " ('Filippo Melegoni', 5),\n",
              " ('Jonas Lindberg', 5),\n",
              " ('Robbie Haemhouts', 5),\n",
              " ('Sang Hyeob Lee', 5),\n",
              " ('Jon Guridi Aldalur', 5),\n",
              " ('Edgar Zaldívar', 5),\n",
              " ('Mario Grgic', 5),\n",
              " ('Louis Reed', 5),\n",
              " ('Cameron McGeehan', 5),\n",
              " ('Juan Gabriel Rivas', 5),\n",
              " ('Furkan Soyalp', 5),\n",
              " ('Maxim Kuzmin', 5),\n",
              " ('Ollie Banks', 5),\n",
              " ('Jay Chapman', 5),\n",
              " ('Wayne Brown', 5),\n",
              " ('Pablo Larrea Gambara', 5),\n",
              " ('Amidou Diop', 5),\n",
              " ('Mario Motturru', 5),\n",
              " ('Sandro Toscano', 5),\n",
              " ('Moreto Moro Cassamá', 5),\n",
              " (\"Maxime D'Arpino\", 5),\n",
              " ('Maximiliano Lugo', 5),\n",
              " ('Alejandro Guido', 5),\n",
              " ('Scott Allan', 5),\n",
              " ('Ivan Oblyakov', 5),\n",
              " ('Nolan Mbemba', 5),\n",
              " ('Jacob Mellis', 5),\n",
              " ('Vebjørn Hoff', 5),\n",
              " ('Meshari Al Thmali', 5),\n",
              " (\"John O'Sullivan\", 5),\n",
              " ('Sun Min Kim', 5),\n",
              " ('Kaan Baysal', 5),\n",
              " ('Alexandre Pasche', 5),\n",
              " ('Daniel Rodríguez Vázquez', 5),\n",
              " ('Eduardo Cortina García', 5),\n",
              " ('Joaninho Marvin Chagas Silva', 5),\n",
              " ('Dean Parrett', 5),\n",
              " ('Antoni Sarcevic', 5),\n",
              " ('Juan Martin Imbert', 5),\n",
              " ('Ilya Zhigulev', 5),\n",
              " ('Daigo Kobayashi', 5),\n",
              " ('Callum Camps', 5),\n",
              " ('Floriano Vanzo', 5),\n",
              " ('Abdul Razak', 5),\n",
              " ('Mounir El Allouchi', 5),\n",
              " ('Kevin Lejeune', 5),\n",
              " ('Juan Brunetta', 5),\n",
              " ('Sebastian Ernst', 5),\n",
              " ('Daniel Fredheim Holm', 5),\n",
              " ('Gedion Zelalem', 5),\n",
              " ('João Filipe Couto Patrão', 5),\n",
              " ('Robert Gojani', 5),\n",
              " ('Ignacio Méndez Fernández', 5),\n",
              " ('Ahmed Sayed', 5),\n",
              " ('Santiago Colombatto', 5),\n",
              " ('Seon Yeong Im', 5),\n",
              " ('Tsubasa Endoh', 5),\n",
              " ('Casper Sloth', 5),\n",
              " ('Juan Pardaneos', 5),\n",
              " ('Jake Forster-Caskey', 5),\n",
              " ('Zlatan Ljubijankič', 5),\n",
              " ('Oviemuno Ejaria', 5),\n",
              " ('Abdullah Al Salem', 5),\n",
              " ('Lewis McGugan', 5),\n",
              " ('Sebastià Sastre Catalá', 5),\n",
              " ('Konstantin Kerschbaumer', 5),\n",
              " ('Hongbo Yin', 5),\n",
              " ('Salih Özcan', 5),\n",
              " ('Dean Bowditch', 5),\n",
              " ('Jeff Stans', 5),\n",
              " ('Marko Pajač', 5),\n",
              " ('Herolind Shala', 5),\n",
              " ('Félix Micolta', 5),\n",
              " ('Christopher Oikonomidis', 5),\n",
              " ('Mathieu Cafaro', 5),\n",
              " ('Eugeni Valderrama Domènech', 5),\n",
              " ('Samuel Štefánik', 5),\n",
              " ('Lewis MacLeod', 5),\n",
              " ('Andreas Blomqvist', 5),\n",
              " ('Karim Azamoum', 5),\n",
              " ('Guto Ramón Costinho Ribeiro', 5),\n",
              " ('Alexer Romales', 5),\n",
              " ('Cristian Tănase', 5),\n",
              " ('Dersan Jaime Dinis Abravanel', 5),\n",
              " ('Glenn Claes', 5),\n",
              " ('Reuven Niemeijer', 5),\n",
              " ('Atomu Tanaka', 5),\n",
              " ('Jin Sung Hwang', 5),\n",
              " ('Emerson Hyndman', 5),\n",
              " ('Jorge Pereyra Díaz', 5),\n",
              " ('Clemens Fandrich', 5),\n",
              " ('Jon Toral', 5),\n",
              " ('Felipe Rodríguez', 5),\n",
              " ('Josh Morris', 5),\n",
              " ('Stijn De Smet', 5),\n",
              " ('Diego Lainez', 5),\n",
              " ('Mitch Nichols', 5),\n",
              " ('Alberto Contrera', 5),\n",
              " ('Eduardo Antônio Machado Teixeira', 5),\n",
              " ('Sergio Marcos González', 5),\n",
              " ('Marko Bakić', 5),\n",
              " ('Viktor Klonaridis', 5),\n",
              " ('Juan Carlos Real Ruiz', 5),\n",
              " ('Yongpo Wang', 5),\n",
              " ('Facundo Silva', 5),\n",
              " ('Álvaro Peña Herrero', 5),\n",
              " ('Andrew Shinnie', 5),\n",
              " ('Christian Schneuwly', 5),\n",
              " ('Edgar Gerardo Lugo', 5),\n",
              " ('Fernando Grondoña', 5),\n",
              " ('Emanuel Rescaro', 5),\n",
              " ('Emiliano Armenteros', 5),\n",
              " ('Souleymane Camara', 5),\n",
              " ('Andrija Balić', 5),\n",
              " ('Sławomir Peszko', 5),\n",
              " ('Sandeiro Luan Leal Neto', 5),\n",
              " ('Andrea Orlandi Stabilin', 5),\n",
              " ('Gonzalo Castellani', 5),\n",
              " ('Kyo Won Han', 5),\n",
              " ('Sebastián Hernández', 5),\n",
              " ('Dario Artuago', 5),\n",
              " ('Nilson Leôncio Padilho Borges', 5),\n",
              " ('Farès Bahlouli', 5),\n",
              " ('Franco Niell', 5),\n",
              " ('Pablo Valcarce Vidal', 5),\n",
              " ('Simon Gustafson', 5),\n",
              " ('Nicolaj Thomsen', 5),\n",
              " ('Ludovic Obraniak', 5),\n",
              " ('Vítor Emanuel Cruz da Silva', 5),\n",
              " ('Allan Norberto Ardaújo Alves', 5),\n",
              " ('Carlos Filipe Fonseca Chaby', 5),\n",
              " ('Jürgen Gjasula', 5),\n",
              " ('Carlos Vinícius Santos de Jesús', 5),\n",
              " ('Christophe Mandanne', 5),\n",
              " ('Anastasios Bakasetas', 5),\n",
              " ('Jesús Manuel Santana Abreu', 5),\n",
              " ('Luis Fariña', 5),\n",
              " ('Jeff Hernandero', 5),\n",
              " ('Izet Hajrović', 5),\n",
              " ('Garath McCleary', 5),\n",
              " ('Bartosz Kapustka', 5),\n",
              " ('Martín Rodríguez', 5),\n",
              " ('Ager Aketxe Barrutia', 5),\n",
              " ('Harrison Manzala', 5),\n",
              " ('Mauro Guilherme Ribeiro Rangel', 5),\n",
              " ('Josh Onomah', 5),\n",
              " ('Robert Kenedy Nunes do Nascimento', 5),\n",
              " ('Ángel Mena', 5),\n",
              " ('Stephen Ireland', 5),\n",
              " ('Adam Ounas', 5),\n",
              " ('Mpho Makola', 5),\n",
              " ('Ahmad Benali', 5),\n",
              " ('Ronny Rodelin', 5),\n",
              " ('Yann Jouffre', 5),\n",
              " ('Luiz Marcelo Morais dos Reis', 5),\n",
              " ('Tarik Elyounoussi', 5),\n",
              " ('Maximiliano Urruti', 5),\n",
              " ('Alex Pritchard', 5),\n",
              " ('Lucas Domingues Piazon', 5),\n",
              " ('Mauro Díaz', 5),\n",
              " ('Paul-José Mpoku', 5),\n",
              " ('Ravel Morrison', 5),\n",
              " ('Bruno Ferreira Bonfim', 5),\n",
              " ('Sibusiso Vilakazi', 5),\n",
              " ('Rodrigo Javier De Paul', 5),\n",
              " ('Miroslav Radović', 5),\n",
              " ('Filip Đuričić', 5),\n",
              " ('Michael Gregoritsch', 5),\n",
              " ('Nabil El Zhar', 5),\n",
              " ('Ola Toivonen', 5),\n",
              " ('Fabián Castillo', 5),\n",
              " ('João Pedro G. Santos Galvão', 5),\n",
              " ('Federico Cartabia', 5),\n",
              " ('Valentin Stocker', 5),\n",
              " ('Darlington Nagbe', 5),\n",
              " ('Héctor Villalba', 5),\n",
              " ('Lucas Ocampos', 5),\n",
              " ('Giovanni Moreno', 5),\n",
              " ('Joel Campbell', 5),\n",
              " ('Max Gradel', 5),\n",
              " ('Steven Berghuis', 5),\n",
              " ('Eric Maxim Choupo-Moting', 5),\n",
              " ('Martin Braithwaite', 5),\n",
              " ('Fin Bartels', 5),\n",
              " ('Lautaro Acosta', 5),\n",
              " ('Konstantinos Fortounis', 5),\n",
              " ('Marcel Sabitzer', 5),\n",
              " ('Pedro Miguel Martins Santos', 5),\n",
              " ('Franco Cervi', 5),\n",
              " ('Christian Pulisic', 5),\n",
              " ('Pablo Piatti', 5),\n",
              " ('Seydou Doumbia', 5),\n",
              " ('Nicolai Jørgensen', 5),\n",
              " ('Emre Çolak', 5),\n",
              " ('Yevhen Konoplyanka', 5),\n",
              " ('Edin Višća', 5),\n",
              " ('Luciano Vietto', 5),\n",
              " ('André Schürrle', 5),\n",
              " ('Ángel Correa', 5),\n",
              " (\"Samuel Eto'o\", 5),\n",
              " ('David Villa Sánchez', 5),\n",
              " ('Samir Nasri', 5),\n",
              " ('Jonas Gonçalves Oliveira', 5),\n",
              " ('Sebastian Giovinco', 5),\n",
              " ('Oscar dos Santos Emboaba', 5),\n",
              " ('Philippe Coutinho Correia', 5),\n",
              " ('Alessandro Deiola', 4),\n",
              " ('Leandro Navarro', 4),\n",
              " ('Louis Clément Ngwat Mahop', 4),\n",
              " ('Ander Guevara Lajo', 4),\n",
              " ('Dimitri Bisoli', 4),\n",
              " ('Marco Fossati', 4),\n",
              " ('Marco Sangalli Fuentes', 4),\n",
              " ('Aleix Febas Pérez', 4),\n",
              " ('Raphael Gregório Guzzo', 4),\n",
              " ('Luis García Fernández', 4),\n",
              " ('Víctor Figueroa', 4),\n",
              " ('Rade Krunić', 4),\n",
              " ('Ryan Thomas', 4),\n",
              " ('Mario Vrančić', 4),\n",
              " ('Marvin Martin', 4),\n",
              " ('Jehad Al Hussien', 4),\n",
              " ('Michael Liendl', 4),\n",
              " ('Johan Cavalli', 4),\n",
              " ('Walter Erviti', 4),\n",
              " ('Luiz Araújo', 4),\n",
              " ('Jerónimo Figueroa Cabrera', 4),\n",
              " ('Bilal Başaçıkoğlu', 4),\n",
              " ('Préjuce Nakoulma', 4),\n",
              " ('Yuya Kubo', 4),\n",
              " ('Robert Snodgrass', 4),\n",
              " ('Federico Higuaín', 4),\n",
              " ('Carlos Manuel Cardoso Mané', 4),\n",
              " ('Lazar Marković', 4),\n",
              " ('Gaël Kakuta', 4),\n",
              " ('Yoshinori Mutō', 4),\n",
              " ('Víctor Vázquez Solsona', 4),\n",
              " ('Manuel Agudo Durán', 4),\n",
              " ('Pedro León Sánchez Gil', 4),\n",
              " ('Mario Götze', 4),\n",
              " ('Max Kruse', 4),\n",
              " ('Dimitri Payet', 4),\n",
              " ('Lorenzo Insigne', 4),\n",
              " ('Alec Byrne', 3),\n",
              " ('Anes Osmanoski', 3),\n",
              " ('George Malki', 3),\n",
              " ('Nicolai Dohn', 3),\n",
              " ('Noor Husin', 3),\n",
              " ('Tom Anderson', 3),\n",
              " ('Jordan Holt', 3),\n",
              " ('Mads Emil Madsen', 3),\n",
              " ('Atsushi Kurokawa', 3),\n",
              " ('Kristoffer Gunnarshaug', 3),\n",
              " ('Emil Solnørdal', 3),\n",
              " ('Benjamin Tannus', 3),\n",
              " ('Adam Fägerhag', 3),\n",
              " ('Cameron Sangster', 3),\n",
              " ('Josh Gregory', 3),\n",
              " ('Angus Beith', 3),\n",
              " ('Tom Smith', 3),\n",
              " ('Josh Thomas', 3),\n",
              " ('David Turnbull', 3),\n",
              " ('Keiya Shiihashi', 3),\n",
              " ('Collins Tanor', 3),\n",
              " ('Aksel Aktas', 3),\n",
              " ('Florian Fischerauer', 3),\n",
              " ('Marwan Baze', 3),\n",
              " ('Rory Hale', 3),\n",
              " ('Emil Bohinen', 3),\n",
              " ('Khaled Al Hamdhi', 3),\n",
              " ('Ryan Barnett', 3),\n",
              " ('Andrew McCarthy', 3),\n",
              " ('Julien Anziani', 3),\n",
              " ('Giotto Morandi', 3),\n",
              " ('Massimiliano Mangraviti', 3),\n",
              " ('Filippo Nardi', 3),\n",
              " ('Virgile Piechocki', 3),\n",
              " ('Amaro Bahtijar', 3),\n",
              " ('Lewis Spence', 3),\n",
              " ('Serigne Fallou Niang', 3),\n",
              " ('Dae Joon Lim', 3),\n",
              " ('George Hughes', 3),\n",
              " ('Mark Harris', 3),\n",
              " ('Gabriel Aphrem', 3),\n",
              " ('Yassin Maouche', 3),\n",
              " ('Abdulrahman Al Shahrani', 3),\n",
              " ('Elliot Osborne', 3),\n",
              " ('Jeff King', 3),\n",
              " ('Jamie Veale', 3),\n",
              " ('Jordon Sangha', 3),\n",
              " ('Kacper Laskoś', 3),\n",
              " ('Frederik Lauenborg', 3),\n",
              " ('Hassan Dhaifallah', 3),\n",
              " ('Garbhan Coughlan', 3),\n",
              " ('Jakub Wróbel', 3),\n",
              " ('Mark Waddington', 3),\n",
              " ('Nathan Konstandopoulos', 3),\n",
              " ('Aaron Morley', 3),\n",
              " ('Harry Donovan', 3),\n",
              " ('Sarpreet Singh', 3),\n",
              " ('Ivan Varone', 3),\n",
              " ('Medjon Hoxha', 3),\n",
              " ('Jack Earing', 3),\n",
              " ('Sean Clare', 3),\n",
              " ('James Ferry', 3),\n",
              " ('Shamit Shome', 3),\n",
              " ('Logan Rogerson', 3),\n",
              " ('Kevin Rozo', 3),\n",
              " ('Jack Taylor', 3),\n",
              " ('Matteo Capitani', 3),\n",
              " ('Youssef Maleh', 3),\n",
              " ('Marius Østvold', 3),\n",
              " ('Collin Fernandez', 3),\n",
              " ('Erdal Öztürk', 3),\n",
              " ('Thomas Demol', 3),\n",
              " ('Mert Hakan Yandaş', 3),\n",
              " ('Alfie Beestin', 3),\n",
              " ('Zain Westbrooke', 3),\n",
              " ('Hamed Junior Traorè', 3),\n",
              " ('Rasmus Rosenqvist', 3),\n",
              " ('Fabio Bertoli', 3),\n",
              " ('Carl Johansson', 3),\n",
              " ('Vincent Bezecourt', 3),\n",
              " ('Gary Shanahan', 3),\n",
              " ('John Hou Sæter', 3),\n",
              " ('Sofiane Khadda', 3),\n",
              " ('César Crespo', 3),\n",
              " ('Anthony Caci', 3),\n",
              " ('Gaëtan Weissbeck', 3),\n",
              " ('Eberechi Eze', 3),\n",
              " ('Mattias Kaït', 3),\n",
              " ('James Jones', 3),\n",
              " ('Sébastien Salles-Lamonge', 3),\n",
              " ('Dan Pybus', 3),\n",
              " ('Maciej Górski', 3),\n",
              " ('Talal Al Shamali', 3),\n",
              " ('Dogucan Haspolat', 3),\n",
              " ('Ryuji Bando', 3),\n",
              " ('Pablo López', 3),\n",
              " ('Haruya Ide', 3),\n",
              " ('Rodrigo Tosi', 3),\n",
              " ('Joe Rowley', 3),\n",
              " ('Özgür Taylan Ökke', 3),\n",
              " ('Will Patching', 3),\n",
              " ('Nicolas Schiavi', 3),\n",
              " ('Jack Bridge', 3),\n",
              " ('Alfie May', 3),\n",
              " ('George McEachran', 3),\n",
              " ('George Green', 3),\n",
              " ('Michele Cavion', 3),\n",
              " ('Konstantin Kuchaev', 3),\n",
              " ('Liam Mandeville', 3),\n",
              " ('Johnny Goddard', 3),\n",
              " ('Ludvig Fritzson', 3),\n",
              " ('Si Woo Kim', 3),\n",
              " ('Rayan Raveloson', 3),\n",
              " ('Eddy Lecygne', 3),\n",
              " ('Kyle Scott', 3),\n",
              " ('Ben Kennedy', 3),\n",
              " ('Alberto Pérez Quintana', 3),\n",
              " ('Juan Pedro Jiménez Melero', 3),\n",
              " ('Ronaldo Lucena', 3),\n",
              " ('Andrej Kotnik', 3),\n",
              " ('Tijjani Reijnders', 3),\n",
              " ('Kyle Edwards', 3),\n",
              " ('Oliver Rathbone', 3),\n",
              " ('Eamonn Brophy', 3),\n",
              " ('Mauro Ortíz', 3),\n",
              " ('Darren Oldaker', 3),\n",
              " ('Takuma Arano', 3),\n",
              " ('Samir Nabi', 3),\n",
              " ('Sylvanus Nimely', 3),\n",
              " ('Roberto Olabe Del Arco', 3),\n",
              " ('Juan Moreno Fernández', 3),\n",
              " ('Michel Ramon', 3),\n",
              " ('Theo Robinson', 3),\n",
              " ('Exequiel Beltramone', 3),\n",
              " ('Hyeon Woo Joo', 3),\n",
              " ('Patrick Olsen', 3),\n",
              " ('Görkem Sağlam', 3),\n",
              " ('Samed Karakoç', 3),\n",
              " ('Chan Wool Lim', 3),\n",
              " ('Kenny Rocha Santos', 3),\n",
              " ('Antoine Bernede', 3),\n",
              " ('Jeremy Helmer', 3),\n",
              " ('Anthony Kalik', 3),\n",
              " ('Raúl Vallejo Suárez', 3),\n",
              " ('Julen Colinas Olaizola', 3),\n",
              " ('Bastian Kurz', 3),\n",
              " ('Kamel Chergui', 3),\n",
              " ('Memo Rodriguez', 3),\n",
              " ('Bozhidar Kraev', 3),\n",
              " ('Daleho Irandust', 3),\n",
              " ('Christian Mauersberger', 3),\n",
              " ('Erdi Can Şehit', 3),\n",
              " ('Joel Chianese', 3),\n",
              " ('Nicolás Albarracín', 3),\n",
              " ('Julien Lopez', 3),\n",
              " ('Ihsan Sacko', 3),\n",
              " ('Andrew Carleton', 3),\n",
              " ('Juan Manuel Sánchez', 3),\n",
              " ('Steven Luštica', 3),\n",
              " ('Diego Fabian Barreto', 3),\n",
              " ('Devante Clut', 3),\n",
              " ('Corey Gameiro', 3),\n",
              " ('Petteri Forsell', 3),\n",
              " ('Elias Andersson', 3),\n",
              " ('Odysseus Velanas', 3),\n",
              " ('Saith Sakala', 3),\n",
              " ('Giorgi Merebashvili', 3),\n",
              " ('Nicolas Ruscio Garmendia', 3),\n",
              " ('Olmes Garcia', 3),\n",
              " ('Sean Rigg', 3),\n",
              " ('Johan Muñoz', 3),\n",
              " ('Fabio González Estupiñán', 3),\n",
              " ('Ibrahima Tandia', 3),\n",
              " ('Nikolas Nartey', 3),\n",
              " ('Chris David', 3),\n",
              " ('Matías Sánchez', 3),\n",
              " ('Maxim Kazankov', 3),\n",
              " ('Ianis Hagi', 3),\n",
              " ('Guillermo Méndez', 3),\n",
              " ('Gonzalo Fuengos', 3),\n",
              " ('David Vega', 3),\n",
              " ('Harold Isaza', 3),\n",
              " ('David Gomis', 3),\n",
              " ('Kenji Gorré', 3),\n",
              " ('Roland Sallai', 3),\n",
              " ('Francesco Cassata', 3),\n",
              " ('Paddy McCourt', 3),\n",
              " ('Vinicius Lúcio Julião Morrinhos', 3),\n",
              " ('Marc McNulty', 3),\n",
              " ('Bálint Vécsei', 3),\n",
              " ('Magne Hoseth', 3),\n",
              " ('Łukasz Wolsztyński', 3),\n",
              " ('Javier Muñoz Jiménez', 3),\n",
              " ('Abdülkadir Ömür', 3),\n",
              " ('Romário Pereira Sipião', 3),\n",
              " ('Idriss Ech-Chergui', 3),\n",
              " ('Dong Suk Kim', 3),\n",
              " ('Facundo Callejo', 3),\n",
              " ('Ju An You', 3),\n",
              " ('Morten Gamst Pedersen', 3),\n",
              " ('Tolcay Ciğerci', 3),\n",
              " ('Sinan Bytyqi', 3),\n",
              " ('Gauthier Hein', 3),\n",
              " ('Eljif Elmas', 3),\n",
              " ('Omar Vásquez', 3),\n",
              " ('Simon Skrabb', 3),\n",
              " ('Jonathan Montiel Caballero', 3),\n",
              " ('Matthew Grimes', 3),\n",
              " ('Joe Lolley', 3),\n",
              " ('Jean Carlos Silva Rocha', 3),\n",
              " ('Kieran Sadlier', 3),\n",
              " ('Jarrod Bowen', 3),\n",
              " ('Joel Amoroso', 3),\n",
              " ('Latif Blessing', 3),\n",
              " ('Jin Izumisawa', 3),\n",
              " ('Min Hyeok Kim', 3),\n",
              " ('Alejandro Corredera Alardi', 3),\n",
              " ('Shuhei Akasaki', 3),\n",
              " ('Jumpei Kusukami', 3),\n",
              " ('Ballou Tabla', 3),\n",
              " ('Diego Maurício Machado de Brito', 3),\n",
              " ('Kennedy Bakırcıoğlu', 3),\n",
              " ('Bhongolwethu Jayiya', 3),\n",
              " ('Florian Neuhaus', 3),\n",
              " ('Yūki Mutō', 3),\n",
              " ('Rafael Kazior', 3),\n",
              " ('Tsukasa Umesaki', 3),\n",
              " ('Saifeddine Alami', 3),\n",
              " ('Keanu Staude', 3),\n",
              " ('Albert Bunjaku', 3),\n",
              " ('Darwin López', 3),\n",
              " ('Nassim Ben Khalifa', 3),\n",
              " ('Julius Biada', 3),\n",
              " ('Lukas Thürauer', 3),\n",
              " ('Wouter Marinus', 3),\n",
              " ('Emir Bajrami', 3),\n",
              " ('Paco van Moorsel', 3),\n",
              " ('Cristo González Pérez', 3),\n",
              " ('Rafał Boguski', 3),\n",
              " ('Jamie Hopcutt', 3),\n",
              " ('Haris Vučkić', 3),\n",
              " ('Dante Rigo', 3),\n",
              " ('Harry Shipp', 3),\n",
              " ('Romário Baldé', 3),\n",
              " ('Jonathan Álvarez', 3),\n",
              " ('Ben Halloran', 3),\n",
              " ('Stijn Spierings', 3),\n",
              " ('Philipp Klement', 3),\n",
              " ('John Goossens', 3),\n",
              " ('Dejan Meleg', 3),\n",
              " ('Thomas McNamara', 3),\n",
              " ('Javier Fernández Abruñedo', 3),\n",
              " ('Haris Duljević', 3),\n",
              " ('Robin Söder', 3),\n",
              " ('Damián Arce', 3),\n",
              " ('Joaquin Araujo Delgado', 3),\n",
              " ('Omar Eddahri', 3),\n",
              " ('Nikola Vlašić', 3),\n",
              " ('Sebastian Mila', 3),\n",
              " ('Berkay Özcan', 3),\n",
              " ('Cristian Benavente', 3),\n",
              " ('Will Keane', 3),\n",
              " ('Tom Weilandt', 3),\n",
              " ('Alberto Noguera Ripoll', 3),\n",
              " ('Ramon Pascal Lundqvist', 3),\n",
              " ('Özkan Yıldırım', 3),\n",
              " ('Alexis Ibañado', 3),\n",
              " ('Abdenasser El Khayati', 3),\n",
              " ('Nahuel Meriz', 3),\n",
              " ('Ian Henderson', 3),\n",
              " ('Bright Enobakhare', 3),\n",
              " ('José Emeirson de Almeida', 3),\n",
              " ('Juan Pablo Nieto', 3),\n",
              " ('Steffen Hofmann', 3),\n",
              " ('Boubacar Barry', 3),\n",
              " ('Jason Cummings', 3),\n",
              " ('Dawid Kort', 3),\n",
              " ('Gerson Santos da Silva', 3),\n",
              " ('Eneko Capilla González', 3),\n",
              " ('Federico González', 3),\n",
              " ('Rodrigo López', 3),\n",
              " ('Simon Cox', 3),\n",
              " ('Tomás Martínez', 3),\n",
              " ('Emanuel Molina', 3),\n",
              " ('Daniel Cataño', 3),\n",
              " ('Jay Emmanuel-Thomas', 3),\n",
              " ('Emiliano Marcondes', 3),\n",
              " ('William Arboleda', 3),\n",
              " ('Johnatan Opoku', 3),\n",
              " ('Ritsu Doan', 3),\n",
              " ('Deni Milošević', 3),\n",
              " ('Nicklas Pedersen', 3),\n",
              " ('Payam Sadeghian', 3),\n",
              " ('Humberto Osorio', 3),\n",
              " ('Paweł Cibicki', 3),\n",
              " ('Gabriel Torres', 3),\n",
              " ('Marvin Emnes', 3),\n",
              " ('Jhon Cley Jesus Silva', 3),\n",
              " ('Jonny Uchuari', 3),\n",
              " ('Leonardo Heredia', 3),\n",
              " ('Wenderson Nascimento Galeno', 3),\n",
              " ('Miguel Filipe Nunes Cardoso', 3),\n",
              " ('Sören Bertram', 3),\n",
              " ('Rafael Eduardo Costa', 3),\n",
              " ('Lucas Luciano Medeirão Hoffman', 3),\n",
              " ('Patryk Lipski', 3),\n",
              " ('Calvin Stengs', 3),\n",
              " ('Bilel Aouacheria', 3),\n",
              " ('Junya Tanaka', 3),\n",
              " ('Nicky Maynard', 3),\n",
              " ('Yannis Tafer', 3),\n",
              " ('Armando Vargas', 3),\n",
              " ('Mateusz Szwoch', 3),\n",
              " ('Magno Damasceno Santos da Cruz', 3),\n",
              " ('Keagan Buchanan', 3),\n",
              " ('Ollie Watkins', 3),\n",
              " ('Rasmus Jönsson', 3),\n",
              " ('Jhon Pérez', 3),\n",
              " ('Juan Ignacio Cavallaro', 3),\n",
              " ('László Bénes', 3),\n",
              " ('Javier Reina', 3),\n",
              " ('Rodrigo Zagareda', 3),\n",
              " ('Nicolas Rajsel', 3),\n",
              " ('Jean-Luc Dompé Diarra', 3),\n",
              " ('Evans Kangwa', 3),\n",
              " ('Enzo Vindegas', 3),\n",
              " ('Bryan Bergougnoux', 3),\n",
              " ('Adam Taggart', 3),\n",
              " ('Ebere Paul Onuachu', 3),\n",
              " ('Houssem Aouar', 3),\n",
              " ('Renato Peter Rochela Costa', 3),\n",
              " ('Álvaro Ramos', 3),\n",
              " ('Gonçalo Mendes Paciência', 3),\n",
              " ('Nahir Besara', 3),\n",
              " ('Eirik Ulland Andersen', 3),\n",
              " ('Steve De Ridder', 3),\n",
              " ('Martín Bravo', 3),\n",
              " ('Anderson José Lopes de Souza', 3),\n",
              " ('Rafael da Silva', 3),\n",
              " ('Francisco Jose Sánchez Rodriguez', 3),\n",
              " ('Cristian Techera', 3),\n",
              " ('Alejandro Alfaro Ligero', 3),\n",
              " ('Rafał Wolski', 3),\n",
              " ('Brandon Thomas Llamas', 3),\n",
              " ('Ranteiro César Alves Catarino', 3),\n",
              " ('Antun Palić', 3),\n",
              " ('Fedor Chalov', 3),\n",
              " ('Besar Halimi', 3),\n",
              " ('Lebogang Manyama', 3),\n",
              " ('Kermit Erasmus', 3),\n",
              " ('Julio Álvarez', 3),\n",
              " ('Yordy Reyna', 3),\n",
              " ('Romaine Sawyers', 3),\n",
              " ('Tal Ben Haim', 3),\n",
              " ('Riad Nouri', 3),\n",
              " ('Óscar Francisco García Quintela', 3),\n",
              " ('Christian Giménez', 3),\n",
              " ('Domi Kumbela', 3),\n",
              " ('Marco Schönbächler', 3),\n",
              " ('Guillermo Molins', 3),\n",
              " ('Axel Ngando', 3),\n",
              " ('Patrick Bamford', 3),\n",
              " ('Matěj Vydra', 3),\n",
              " ('Edgar Salli', 3),\n",
              " ('Sergio López', 3),\n",
              " ('Kenny Miller', 3),\n",
              " ('Angel Sendillas', 3),\n",
              " ('Adel Taarabt', 3),\n",
              " ('Deni Alar', 3),\n",
              " ('Youssouf Hadji', 3),\n",
              " ('Óscar Scarione', 3),\n",
              " ('Ulises Dávila', 3),\n",
              " ('Vicemte Ernesto Tófoli Laranjeiras', 3),\n",
              " ('Charles Lederos', 3),\n",
              " ('Robin Ramírez', 3),\n",
              " ('Ryota Morioka', 3),\n",
              " ('Guillermo Fernández Hierro', 3),\n",
              " ('Mahmoud Abdel Razek Fadlallah', 3),\n",
              " ('Zach Clough', 3),\n",
              " ('Marcos Alam Bastos Domingues', 3),\n",
              " ('Danny Blum', 3),\n",
              " ('Kazenga LuaLua', 3),\n",
              " ('Fabián Muñoz', 3),\n",
              " ('Musa Nyatama', 3),\n",
              " ('Gheorghe Grozav', 3),\n",
              " ('Farid Boulaya', 3),\n",
              " ('Cristian Menéndez', 3),\n",
              " ('Sercan Yıldırım', 3),\n",
              " ('Lucas Wílchez', 3),\n",
              " ('Søren Rieks', 3),\n",
              " ('Borja Valle Balonga', 3),\n",
              " ('Fabian Bordagaray', 3),\n",
              " ('Niko Kranjčar', 3),\n",
              " ('Moestafa El Kabir', 3),\n",
              " ('Sergey Tkachev', 3),\n",
              " ('Yannick dos Santos Djaló', 3),\n",
              " ('Rogério de A. S. Coutinho', 3),\n",
              " ('Marcos Piñeiro Pizzelli', 3),\n",
              " ('Mauro Formica', 3),\n",
              " ('Adnane Tighadouini', 3),\n",
              " ('José Manuel Arnáiz Díaz', 3),\n",
              " ('Dorin Rotariu', 3),\n",
              " ('David McGoldrick', 3),\n",
              " ('Ricardo Lopes Pereira', 3),\n",
              " ('Adem Büyük', 3),\n",
              " ('Neal Maupay', 3),\n",
              " ('Kekuta Manneh', 3),\n",
              " ('Victor Hugo Santana Carvalho', 3),\n",
              " ('Kasper Kusk', 3),\n",
              " ('Flavio Emmanuel Lopes Paixão', 3),\n",
              " ('Darko Jevtić', 3),\n",
              " ('David Nugent', 3),\n",
              " ('Pedro Nuno Fernandes Ferreira', 3),\n",
              " ('James Maddison', 3),\n",
              " ('Santiago Montoya', 3),\n",
              " ('Rafael van der Vaart', 3),\n",
              " ('Lorenzo Cinterio', 3),\n",
              " ('Amilton Minervino da Silva', 3),\n",
              " ('João Carlos Vilaça Teixeira', 3),\n",
              " ('Anthony Lozano', 3),\n",
              " ('Marco André Silva Lopes Matias', 3),\n",
              " ('Christoffer Nyman', 3),\n",
              " ('Carlos Castro García', 3),\n",
              " ('Luciano da Rocha Neves', 3),\n",
              " ('Robert Žulj', 3),\n",
              " ('Shinzo Koroki', 3),\n",
              " ('Tom Lawrence', 3),\n",
              " ('Yassine El Ghanassy', 3),\n",
              " ('Junior Hoilett', 3),\n",
              " ('Reza Ghoochannejhad', 3),\n",
              " ('Aron Jóhannsson', 3),\n",
              " ('Kenan Karaman', 3),\n",
              " ('Antonio Floro Flores', 3),\n",
              " ('Máyer Candelo', 3),\n",
              " ('Iván López Álvarez', 3),\n",
              " ('Christian Alemán', 3),\n",
              " ('Cristian Maidana', 3),\n",
              " ('Alexander Kačaniklić', 3),\n",
              " ('Nacer Barazite', 3),\n",
              " ('Diogo António Cupido Gonçalves', 3),\n",
              " ('Ademilson Braga Bispo Júnior', 3),\n",
              " ('Kerim Frei', 3),\n",
              " ('Joao Plata', 3),\n",
              " ('Ondrej Duda', 3),\n",
              " ('Mirco Antenucci', 3),\n",
              " ('Manuel Pucciarelli', 3),\n",
              " ('Paulo Sérgio Betanin', 3),\n",
              " ('Ariel Marelos', 3),\n",
              " ('Alan Judge', 3),\n",
              " ('Darwin Quintero', 3),\n",
              " ('Gustavo Rafael Lobateiro Gomes', 3),\n",
              " ('Johan Arango', 3),\n",
              " ('Knowledge Musona', 3),\n",
              " ('Gustavo Rafael Outomouro Tófoli', 3),\n",
              " ('Onur Kaya', 3),\n",
              " ('Franck Berrier', 3),\n",
              " ('Pedro Rocha Neves', 3),\n",
              " ('Andrés Andrade', 3),\n",
              " ('Daniel Montenegro', 3),\n",
              " ('Ross McCormack', 3),\n",
              " ('David Remeseiro Salgueiro', 3),\n",
              " ('Gastón Fernández', 3),\n",
              " ('Sinan Gümüş', 3),\n",
              " ('Lei Wu', 3),\n",
              " ('Albert Rusnák', 3),\n",
              " ('Nicolae Stanciu', 3),\n",
              " ('Rafael Santos Borré', 3),\n",
              " ('Kirill Panchenko', 3),\n",
              " ('Muhammet Demir', 3),\n",
              " ('Michael Salcatorini', 3),\n",
              " ('Neeskens Kebano', 3),\n",
              " ('Tiago Manuel Dias Correia', 3),\n",
              " ('Enis Bardhi', 3),\n",
              " ('Alex Iwobi', 3),\n",
              " ('Daniel Pacheco Lobato', 3),\n",
              " ('Abraham Naranjeda', 3),\n",
              " ('Pablo Barrientos', 3),\n",
              " ('David Neres Campos', 3),\n",
              " ('Leonardo Miguel Garcia Caldeira', 3),\n",
              " ('Edwin Cardona', 3),\n",
              " ('Alexey Miranchuk', 3),\n",
              " ('Serge Gakpé', 3),\n",
              " ('Facundo Pereyra', 3),\n",
              " ('Matheus Fellipe Costa Pereira', 3),\n",
              " ('Caio Bruno Milaçar Kenedy', 3),\n",
              " ('Saúl Berjón Pérez', 3),\n",
              " ('Sidney Sam', 3),\n",
              " ('Mathieu Dossevi', 3),\n",
              " ('Adrián López Alvarez', 3),\n",
              " ('Leonardo Pisculichi', 3),\n",
              " ('Zakaria Labyad', 3),\n",
              " ('Viktor Fischer', 3),\n",
              " ('Yerson Donosos', 3),\n",
              " ('Johnny Landiso', 3),\n",
              " ('Sebastián Blanco', 3),\n",
              " ('Giovanni Sio', 3),\n",
              " ('Mahmoud Abdel Moneim', 3),\n",
              " ('Valeri Qazaishvili', 3),\n",
              " ('Adilson Patrick Edrada Pereira', 3),\n",
              " ('Ailton Sérgio Guevara Muscato', 3),\n",
              " ('Eduardo Vargas', 3),\n",
              " ('Ignacio Scocco', 3),\n",
              " ...]"
            ]
          },
          "metadata": {
            "tags": []
          },
          "execution_count": 373
        }
      ]
    },
    {
      "metadata": {
        "id": "kWoEheEMVEmQ",
        "colab_type": "code",
        "colab": {
          "base_uri": "https://localhost:8080/",
          "height": 206
        },
        "outputId": "03c61ccc-bb30-4b68-f5ce-a478874be52c"
      },
      "cell_type": "code",
      "source": [
        "#Solo los 10 mas similares\n",
        "\n",
        "print(\"Obviamos que el primero es el mismo jugador que estamos comparando\")\n",
        "for i in range(10):\n",
        "  print(i+1,\"\\t\",sorted_x[i][0])\n",
        "  \n"
      ],
      "execution_count": 374,
      "outputs": [
        {
          "output_type": "stream",
          "text": [
            "1 \t Lionel Messi\n",
            "2 \t Neymar da Silva Santos Jr.\n",
            "3 \t Juan Pablo Añor\n",
            "4 \t Carles Gil Pareja\n",
            "5 \t Max Meyer\n",
            "6 \t Domenico Berardi\n",
            "7 \t Yacine Brahimi\n",
            "8 \t Douglas Costa de Souza\n",
            "9 \t Federico Bernardeschi\n",
            "10 \t Shinji Kagawa\n"
          ],
          "name": "stdout"
        }
      ]
    },
    {
      "metadata": {
        "id": "5LmwfY9Jo27n",
        "colab_type": "code",
        "colab": {}
      },
      "cell_type": "code",
      "source": [
        ""
      ],
      "execution_count": 0,
      "outputs": []
    }
  ]
}